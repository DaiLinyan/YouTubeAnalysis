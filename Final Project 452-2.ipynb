{
 "cells": [
  {
   "cell_type": "markdown",
   "metadata": {},
   "source": [
    "# Final Project \n",
    "## Using all scraped data to explore the relationship between video features and views\n",
    "#### 1) We will first do embedding on the title and descriptions of the videos using bad of words\n",
    "#### 2) We will generate the likes to dislike ratio\n",
    "#### 3) Then we will do topic modeling on the comments of each video \n",
    "#### 4) We will perform a lasso using the aboved mentioned variables and also the lenght of the video"
   ]
  },
  {
   "cell_type": "code",
   "execution_count": 253,
   "metadata": {
    "colab": {},
    "colab_type": "code",
    "id": "KFGIhlzUZJE7"
   },
   "outputs": [
    {
     "name": "stderr",
     "output_type": "stream",
     "text": [
      "/Users/nandinibasu/opt/anaconda3/lib/python3.7/site-packages/tqdm/std.py:648: FutureWarning: The Panel class is removed from pandas. Accessing it from the top-level namespace will also be removed in the next version\n",
      "  from pandas import Panel\n",
      "[nltk_data] Downloading package stopwords to\n",
      "[nltk_data]     /Users/nandinibasu/nltk_data...\n",
      "[nltk_data]   Package stopwords is already up-to-date!\n"
     ]
    },
    {
     "data": {
      "text/plain": [
       "True"
      ]
     },
     "execution_count": 253,
     "metadata": {},
     "output_type": "execute_result"
    }
   ],
   "source": [
    "# Importing all libraries\n",
    "import pandas as pd\n",
    "import numpy as np\n",
    "import gensim\n",
    "import operator\n",
    "import random\n",
    "from gensim import corpora, models\n",
    "import re\n",
    "import heapq\n",
    "import nltk\n",
    "from nltk.corpus import stopwords \n",
    "from nltk.tokenize import word_tokenize, sent_tokenize\n",
    "from nltk.stem import PorterStemmer\n",
    "from tqdm import tqdm\n",
    "tqdm.pandas()\n",
    "from sklearn.linear_model import Lasso\n",
    "from sklearn.linear_model import LassoCV\n",
    "from sklearn.metrics import r2_score\n",
    "from sklearn.model_selection import train_test_split\n",
    "from sklearn.model_selection import GridSearchCV\n",
    "nltk.download('stopwords')"
   ]
  },
  {
   "cell_type": "markdown",
   "metadata": {
    "colab": {
     "base_uri": "https://localhost:8080/",
     "height": 122
    },
    "colab_type": "code",
    "id": "1FjU3ulraNAz",
    "outputId": "3293e92a-8e7c-4d7d-979d-a11f32cdeaff"
   },
   "source": [
    "from google.colab import drive\n",
    "drive.mount('/content/drive')"
   ]
  },
  {
   "cell_type": "markdown",
   "metadata": {
    "colab": {},
    "colab_type": "code",
    "id": "7lI1XcEvaQpk"
   },
   "source": [
    "import os\n",
    "os.chdir(\"/content/drive/Shared drives/BAX 452-422 Group/Final Project\")"
   ]
  },
  {
   "cell_type": "code",
   "execution_count": 125,
   "metadata": {
    "colab": {},
    "colab_type": "code",
    "id": "fWvwL3z_aV6h"
   },
   "outputs": [],
   "source": [
    "all_data = pd.read_csv('video all data.csv')"
   ]
  },
  {
   "cell_type": "code",
   "execution_count": 126,
   "metadata": {
    "colab": {
     "base_uri": "https://localhost:8080/",
     "height": 425
    },
    "colab_type": "code",
    "id": "ugR7cuFsacZD",
    "outputId": "c9e9eb01-83d5-4106-dc72-c225f901c03a"
   },
   "outputs": [],
   "source": [
    "all_data = all_data.drop(columns= 'subtitle')"
   ]
  },
  {
   "cell_type": "code",
   "execution_count": 127,
   "metadata": {},
   "outputs": [
    {
     "data": {
      "text/html": [
       "<div>\n",
       "<style scoped>\n",
       "    .dataframe tbody tr th:only-of-type {\n",
       "        vertical-align: middle;\n",
       "    }\n",
       "\n",
       "    .dataframe tbody tr th {\n",
       "        vertical-align: top;\n",
       "    }\n",
       "\n",
       "    .dataframe thead th {\n",
       "        text-align: right;\n",
       "    }\n",
       "</style>\n",
       "<table border=\"1\" class=\"dataframe\">\n",
       "  <thead>\n",
       "    <tr style=\"text-align: right;\">\n",
       "      <th></th>\n",
       "      <th>ids</th>\n",
       "      <th>titles</th>\n",
       "      <th>description</th>\n",
       "      <th>views</th>\n",
       "      <th>date</th>\n",
       "      <th>likes</th>\n",
       "      <th>dislikes</th>\n",
       "      <th>length</th>\n",
       "      <th>Comments</th>\n",
       "    </tr>\n",
       "  </thead>\n",
       "  <tbody>\n",
       "    <tr>\n",
       "      <td>0</td>\n",
       "      <td>8K7XiEOx3Fw</td>\n",
       "      <td>I Tested Amazon's Best-Selling Air Fryer • Alix</td>\n",
       "      <td>Alix is testing Amazon's best selling air frye...</td>\n",
       "      <td>104887.0</td>\n",
       "      <td>09/03/20</td>\n",
       "      <td>5108.0</td>\n",
       "      <td>307.0</td>\n",
       "      <td>750.0</td>\n",
       "      <td>['4 hrs to make mash potato delete your channe...</td>\n",
       "    </tr>\n",
       "    <tr>\n",
       "      <td>1</td>\n",
       "      <td>ysVnhqwlDbo</td>\n",
       "      <td>16 Ways To Up Your Breakfast Toast Game • Tasty</td>\n",
       "      <td>Toast in 2020 is far superior to anything you'...</td>\n",
       "      <td>128680.0</td>\n",
       "      <td>07/03/20</td>\n",
       "      <td>3932.0</td>\n",
       "      <td>88.0</td>\n",
       "      <td>342.0</td>\n",
       "      <td>['Pretty intense music for some toasts...', 'W...</td>\n",
       "    </tr>\n",
       "    <tr>\n",
       "      <td>2</td>\n",
       "      <td>OoH1oGAJ7jI</td>\n",
       "      <td>Tasty Producers Swap Their Favorite Snacks • R...</td>\n",
       "      <td>Andrew and Rie are swapping their favorite sna...</td>\n",
       "      <td>832586.0</td>\n",
       "      <td>07/03/20</td>\n",
       "      <td>23600.0</td>\n",
       "      <td>341.0</td>\n",
       "      <td>774.0</td>\n",
       "      <td>['Andrew seems like a craving pregnant woman. ...</td>\n",
       "    </tr>\n",
       "    <tr>\n",
       "      <td>3</td>\n",
       "      <td>7xycoVXyFGE</td>\n",
       "      <td>Stuffed French Toast by Chef Andrea Drummer</td>\n",
       "      <td>Inspired by bread pudding and crème brûlée, th...</td>\n",
       "      <td>105588.0</td>\n",
       "      <td>05/03/20</td>\n",
       "      <td>4421.0</td>\n",
       "      <td>73.0</td>\n",
       "      <td>214.0</td>\n",
       "      <td>['Ngl all of the mini voice cracks in her voic...</td>\n",
       "    </tr>\n",
       "    <tr>\n",
       "      <td>4</td>\n",
       "      <td>oUeanf1tg7U</td>\n",
       "      <td>5 Homemade Dumplings To Feast On • Tasty</td>\n",
       "      <td>The tastiest dumplings you ever did see. Shop ...</td>\n",
       "      <td>324847.0</td>\n",
       "      <td>05/03/20</td>\n",
       "      <td>8608.0</td>\n",
       "      <td>175.0</td>\n",
       "      <td>383.0</td>\n",
       "      <td>['Rather than being gentle with the dough, the...</td>\n",
       "    </tr>\n",
       "  </tbody>\n",
       "</table>\n",
       "</div>"
      ],
      "text/plain": [
       "           ids                                             titles  \\\n",
       "0  8K7XiEOx3Fw    I Tested Amazon's Best-Selling Air Fryer • Alix   \n",
       "1  ysVnhqwlDbo    16 Ways To Up Your Breakfast Toast Game • Tasty   \n",
       "2  OoH1oGAJ7jI  Tasty Producers Swap Their Favorite Snacks • R...   \n",
       "3  7xycoVXyFGE        Stuffed French Toast by Chef Andrea Drummer   \n",
       "4  oUeanf1tg7U           5 Homemade Dumplings To Feast On • Tasty   \n",
       "\n",
       "                                         description     views      date  \\\n",
       "0  Alix is testing Amazon's best selling air frye...  104887.0  09/03/20   \n",
       "1  Toast in 2020 is far superior to anything you'...  128680.0  07/03/20   \n",
       "2  Andrew and Rie are swapping their favorite sna...  832586.0  07/03/20   \n",
       "3  Inspired by bread pudding and crème brûlée, th...  105588.0  05/03/20   \n",
       "4  The tastiest dumplings you ever did see. Shop ...  324847.0  05/03/20   \n",
       "\n",
       "     likes  dislikes  length  \\\n",
       "0   5108.0     307.0   750.0   \n",
       "1   3932.0      88.0   342.0   \n",
       "2  23600.0     341.0   774.0   \n",
       "3   4421.0      73.0   214.0   \n",
       "4   8608.0     175.0   383.0   \n",
       "\n",
       "                                            Comments  \n",
       "0  ['4 hrs to make mash potato delete your channe...  \n",
       "1  ['Pretty intense music for some toasts...', 'W...  \n",
       "2  ['Andrew seems like a craving pregnant woman. ...  \n",
       "3  ['Ngl all of the mini voice cracks in her voic...  \n",
       "4  ['Rather than being gentle with the dough, the...  "
      ]
     },
     "execution_count": 127,
     "metadata": {},
     "output_type": "execute_result"
    }
   ],
   "source": [
    "all_data.head(5)"
   ]
  },
  {
   "cell_type": "markdown",
   "metadata": {
    "colab_type": "text",
    "id": "z4uZpLDDYO5R"
   },
   "source": [
    "### 1. Bag of Words for title"
   ]
  },
  {
   "cell_type": "code",
   "execution_count": 128,
   "metadata": {
    "colab": {},
    "colab_type": "code",
    "id": "ZnOpU-mf4zBW"
   },
   "outputs": [],
   "source": [
    "# change all string to lower case\n",
    "all_data['titles'] = all_data['titles'].str.lower()"
   ]
  },
  {
   "cell_type": "code",
   "execution_count": 129,
   "metadata": {
    "colab": {},
    "colab_type": "code",
    "id": "FmIlZXus7IAZ"
   },
   "outputs": [],
   "source": [
    "# change all number into 'NUMBER' to analysis on the effect of using numbers in title\n",
    "number_title = all_data['titles'].apply(lambda x: re.sub('\\d+','NUMBER',str(x)))"
   ]
  },
  {
   "cell_type": "code",
   "execution_count": 130,
   "metadata": {
    "colab": {
     "base_uri": "https://localhost:8080/",
     "height": 221
    },
    "colab_type": "code",
    "id": "Kb6duRk47gda",
    "outputId": "cbb294cd-755d-4b6a-f00c-c11e1db5a196"
   },
   "outputs": [
    {
     "data": {
      "text/plain": [
       "0      i tested amazon's best-selling air fryer • alix\n",
       "1    NUMBER ways to up your breakfast toast game • ...\n",
       "2    tasty producers swap their favorite snacks • r...\n",
       "3          stuffed french toast by chef andrea drummer\n",
       "4        NUMBER homemade dumplings to feast on • tasty\n",
       "Name: titles, dtype: object"
      ]
     },
     "execution_count": 130,
     "metadata": {},
     "output_type": "execute_result"
    }
   ],
   "source": [
    "number_title.head()"
   ]
  },
  {
   "cell_type": "markdown",
   "metadata": {
    "colab_type": "text",
    "id": "ee6qsx9mnFpn"
   },
   "source": [
    "### Title is already very streamlined, and a lot of words in all kinds of stopwords is useful for title analysis such as 'I' and 'to' etc.. So I think we can delete some stopwords after 'most common word list' is created."
   ]
  },
  {
   "cell_type": "code",
   "execution_count": 131,
   "metadata": {
    "colab": {},
    "colab_type": "code",
    "id": "QRQifJ6omn_M"
   },
   "outputs": [],
   "source": [
    "# tokenize word\n",
    "tokenized_title = number_title.apply(word_tokenize)"
   ]
  },
  {
   "cell_type": "code",
   "execution_count": 132,
   "metadata": {
    "colab": {
     "base_uri": "https://localhost:8080/",
     "height": 204
    },
    "colab_type": "code",
    "id": "gVFG3UpUro4c",
    "outputId": "2dbbb7cc-ffb4-4cb6-e888-bf31a782d1e6"
   },
   "outputs": [
    {
     "data": {
      "text/plain": [
       "0    [i, tested, amazon, 's, best-selling, air, fry...\n",
       "1    [NUMBER, ways, to, up, your, breakfast, toast,...\n",
       "2    [tasty, producers, swap, their, favorite, snac...\n",
       "3    [stuffed, french, toast, by, chef, andrea, dru...\n",
       "4    [NUMBER, homemade, dumplings, to, feast, on, •...\n",
       "Name: titles, dtype: object"
      ]
     },
     "execution_count": 132,
     "metadata": {},
     "output_type": "execute_result"
    }
   ],
   "source": [
    "tokenized_title.head(5)"
   ]
  },
  {
   "cell_type": "code",
   "execution_count": 133,
   "metadata": {
    "colab": {},
    "colab_type": "code",
    "id": "4e23B2ThsoUe"
   },
   "outputs": [],
   "source": [
    "# Handling negation, create 'not_word'\n",
    "for j in range(len(tokenized_title)):\n",
    "  for i in range(len(tokenized_title[j])):\n",
    "    try:\n",
    "      if \"n't\" in tokenized_title[j][i] or tokenized_title[j][i] == \"not\":\n",
    "        tokenized_title[j].pop(i)\n",
    "        tokenized_title[j][i] = 'not_' + tokenized_title[j][i]\n",
    "    except:\n",
    "      pass"
   ]
  },
  {
   "cell_type": "code",
   "execution_count": 134,
   "metadata": {
    "colab": {},
    "colab_type": "code",
    "id": "a42sPZzn9e_4"
   },
   "outputs": [],
   "source": [
    "ps = PorterStemmer()\n",
    "stemed_title = tokenized_title.apply(lambda x: [ps.stem(i) for i in x])"
   ]
  },
  {
   "cell_type": "code",
   "execution_count": 135,
   "metadata": {
    "colab": {
     "base_uri": "https://localhost:8080/",
     "height": 1000
    },
    "colab_type": "code",
    "id": "uLnDJL8i90QN",
    "outputId": "08cf1bd0-6049-43e2-bd27-9d931f58a29a"
   },
   "outputs": [],
   "source": [
    "# Create commen word vectors\n",
    "word_freq = {}\n",
    "for sentence in stemed_title:\n",
    "    for word in sentence:\n",
    "        if word not in word_freq.keys():\n",
    "            word_freq[word] = 1\n",
    "        else:\n",
    "            word_freq[word] += 1"
   ]
  },
  {
   "cell_type": "code",
   "execution_count": 136,
   "metadata": {
    "colab": {
     "base_uri": "https://localhost:8080/",
     "height": 1000
    },
    "colab_type": "code",
    "id": "dNUnCWPcABtT",
    "outputId": "0551dec7-9108-4f67-c375-83cabdccce4c",
    "scrolled": true
   },
   "outputs": [],
   "source": [
    "# Create word vector\n",
    "word_vector = heapq.nlargest(100, word_freq, key=word_freq.get)"
   ]
  },
  {
   "cell_type": "code",
   "execution_count": 137,
   "metadata": {
    "colab": {
     "base_uri": "https://localhost:8080/",
     "height": 34
    },
    "colab_type": "code",
    "id": "U7tj6gja_jk5",
    "outputId": "2e46d406-4d1f-49ec-88fd-78edb94195d1"
   },
   "outputs": [
    {
     "data": {
      "text/plain": [
       "'•'"
      ]
     },
     "execution_count": 137,
     "metadata": {},
     "output_type": "execute_result"
    }
   ],
   "source": [
    "# remove 'tasty' and '•' because it shows up in all videos\n",
    "word_vector.pop(0)\n",
    "word_vector.pop(0)"
   ]
  },
  {
   "cell_type": "code",
   "execution_count": 138,
   "metadata": {
    "colab": {},
    "colab_type": "code",
    "id": "6NAaNf-3jAvw"
   },
   "outputs": [],
   "source": [
    "# function for word vector\n",
    "def word_vectors(sentence):\n",
    "  sent_vect = []\n",
    "  for i in word_vector:\n",
    "    if i in sentence:\n",
    "      sent_vect.append(1)\n",
    "    else:\n",
    "      sent_vect.append(0)\n",
    "  return sent_vect"
   ]
  },
  {
   "cell_type": "code",
   "execution_count": 139,
   "metadata": {
    "colab": {},
    "colab_type": "code",
    "id": "uyxd5Lqsmttv"
   },
   "outputs": [],
   "source": [
    "word_list = stemed_title.apply(word_vectors)"
   ]
  },
  {
   "cell_type": "code",
   "execution_count": 140,
   "metadata": {
    "colab": {},
    "colab_type": "code",
    "id": "AyfUtstbqJzy"
   },
   "outputs": [],
   "source": [
    "title_dataframe = pd.DataFrame(list(word_list),columns=word_vector)"
   ]
  },
  {
   "cell_type": "code",
   "execution_count": 141,
   "metadata": {},
   "outputs": [
    {
     "data": {
      "text/html": [
       "<div>\n",
       "<style scoped>\n",
       "    .dataframe tbody tr th:only-of-type {\n",
       "        vertical-align: middle;\n",
       "    }\n",
       "\n",
       "    .dataframe tbody tr th {\n",
       "        vertical-align: top;\n",
       "    }\n",
       "\n",
       "    .dataframe thead th {\n",
       "        text-align: right;\n",
       "    }\n",
       "</style>\n",
       "<table border=\"1\" class=\"dataframe\">\n",
       "  <thead>\n",
       "    <tr style=\"text-align: right;\">\n",
       "      <th></th>\n",
       "      <th>number</th>\n",
       "      <th>to</th>\n",
       "      <th>recip</th>\n",
       "      <th>make</th>\n",
       "      <th>a</th>\n",
       "      <th>for</th>\n",
       "      <th>how</th>\n",
       "      <th>the</th>\n",
       "      <th>your</th>\n",
       "      <th>,</th>\n",
       "      <th>...</th>\n",
       "      <th>these</th>\n",
       "      <th>are</th>\n",
       "      <th>lg</th>\n",
       "      <th>usa</th>\n",
       "      <th>s</th>\n",
       "      <th>sweet</th>\n",
       "      <th>or</th>\n",
       "      <th>rice</th>\n",
       "      <th>rie</th>\n",
       "      <th>butter</th>\n",
       "    </tr>\n",
       "  </thead>\n",
       "  <tbody>\n",
       "    <tr>\n",
       "      <td>0</td>\n",
       "      <td>0</td>\n",
       "      <td>0</td>\n",
       "      <td>0</td>\n",
       "      <td>0</td>\n",
       "      <td>0</td>\n",
       "      <td>0</td>\n",
       "      <td>0</td>\n",
       "      <td>0</td>\n",
       "      <td>0</td>\n",
       "      <td>0</td>\n",
       "      <td>...</td>\n",
       "      <td>0</td>\n",
       "      <td>0</td>\n",
       "      <td>0</td>\n",
       "      <td>0</td>\n",
       "      <td>0</td>\n",
       "      <td>0</td>\n",
       "      <td>0</td>\n",
       "      <td>0</td>\n",
       "      <td>0</td>\n",
       "      <td>0</td>\n",
       "    </tr>\n",
       "    <tr>\n",
       "      <td>1</td>\n",
       "      <td>1</td>\n",
       "      <td>1</td>\n",
       "      <td>0</td>\n",
       "      <td>0</td>\n",
       "      <td>0</td>\n",
       "      <td>0</td>\n",
       "      <td>0</td>\n",
       "      <td>0</td>\n",
       "      <td>1</td>\n",
       "      <td>0</td>\n",
       "      <td>...</td>\n",
       "      <td>0</td>\n",
       "      <td>0</td>\n",
       "      <td>0</td>\n",
       "      <td>0</td>\n",
       "      <td>0</td>\n",
       "      <td>0</td>\n",
       "      <td>0</td>\n",
       "      <td>0</td>\n",
       "      <td>0</td>\n",
       "      <td>0</td>\n",
       "    </tr>\n",
       "    <tr>\n",
       "      <td>2</td>\n",
       "      <td>0</td>\n",
       "      <td>0</td>\n",
       "      <td>0</td>\n",
       "      <td>0</td>\n",
       "      <td>0</td>\n",
       "      <td>0</td>\n",
       "      <td>0</td>\n",
       "      <td>0</td>\n",
       "      <td>0</td>\n",
       "      <td>0</td>\n",
       "      <td>...</td>\n",
       "      <td>0</td>\n",
       "      <td>0</td>\n",
       "      <td>0</td>\n",
       "      <td>0</td>\n",
       "      <td>0</td>\n",
       "      <td>0</td>\n",
       "      <td>0</td>\n",
       "      <td>0</td>\n",
       "      <td>1</td>\n",
       "      <td>0</td>\n",
       "    </tr>\n",
       "    <tr>\n",
       "      <td>3</td>\n",
       "      <td>0</td>\n",
       "      <td>0</td>\n",
       "      <td>0</td>\n",
       "      <td>0</td>\n",
       "      <td>0</td>\n",
       "      <td>0</td>\n",
       "      <td>0</td>\n",
       "      <td>0</td>\n",
       "      <td>0</td>\n",
       "      <td>0</td>\n",
       "      <td>...</td>\n",
       "      <td>0</td>\n",
       "      <td>0</td>\n",
       "      <td>0</td>\n",
       "      <td>0</td>\n",
       "      <td>0</td>\n",
       "      <td>0</td>\n",
       "      <td>0</td>\n",
       "      <td>0</td>\n",
       "      <td>0</td>\n",
       "      <td>0</td>\n",
       "    </tr>\n",
       "    <tr>\n",
       "      <td>4</td>\n",
       "      <td>1</td>\n",
       "      <td>1</td>\n",
       "      <td>0</td>\n",
       "      <td>0</td>\n",
       "      <td>0</td>\n",
       "      <td>0</td>\n",
       "      <td>0</td>\n",
       "      <td>0</td>\n",
       "      <td>0</td>\n",
       "      <td>0</td>\n",
       "      <td>...</td>\n",
       "      <td>0</td>\n",
       "      <td>0</td>\n",
       "      <td>0</td>\n",
       "      <td>0</td>\n",
       "      <td>0</td>\n",
       "      <td>0</td>\n",
       "      <td>0</td>\n",
       "      <td>0</td>\n",
       "      <td>0</td>\n",
       "      <td>0</td>\n",
       "    </tr>\n",
       "  </tbody>\n",
       "</table>\n",
       "<p>5 rows × 98 columns</p>\n",
       "</div>"
      ],
      "text/plain": [
       "   number  to  recip  make  a  for  how  the  your  ,  ...  these  are  lg  \\\n",
       "0       0   0      0     0  0    0    0    0     0  0  ...      0    0   0   \n",
       "1       1   1      0     0  0    0    0    0     1  0  ...      0    0   0   \n",
       "2       0   0      0     0  0    0    0    0     0  0  ...      0    0   0   \n",
       "3       0   0      0     0  0    0    0    0     0  0  ...      0    0   0   \n",
       "4       1   1      0     0  0    0    0    0     0  0  ...      0    0   0   \n",
       "\n",
       "   usa  s  sweet  or  rice  rie  butter  \n",
       "0    0  0      0   0     0    0       0  \n",
       "1    0  0      0   0     0    0       0  \n",
       "2    0  0      0   0     0    1       0  \n",
       "3    0  0      0   0     0    0       0  \n",
       "4    0  0      0   0     0    0       0  \n",
       "\n",
       "[5 rows x 98 columns]"
      ]
     },
     "execution_count": 141,
     "metadata": {},
     "output_type": "execute_result"
    }
   ],
   "source": [
    "title_dataframe.head()"
   ]
  },
  {
   "cell_type": "code",
   "execution_count": 142,
   "metadata": {
    "colab": {},
    "colab_type": "code",
    "id": "vl6ZnZhQq0q9"
   },
   "outputs": [],
   "source": [
    "all_data = pd.concat([all_data, title_dataframe], axis = 1)"
   ]
  },
  {
   "cell_type": "code",
   "execution_count": 143,
   "metadata": {},
   "outputs": [],
   "source": [
    "all_data = all_data.drop(columns = ['titles'])"
   ]
  },
  {
   "cell_type": "code",
   "execution_count": 144,
   "metadata": {
    "colab": {
     "base_uri": "https://localhost:8080/",
     "height": 712
    },
    "colab_type": "code",
    "id": "SJy0HTJutt1a",
    "outputId": "0a8c46da-4b19-427d-ee67-29c826b35da5"
   },
   "outputs": [
    {
     "data": {
      "text/html": [
       "<div>\n",
       "<style scoped>\n",
       "    .dataframe tbody tr th:only-of-type {\n",
       "        vertical-align: middle;\n",
       "    }\n",
       "\n",
       "    .dataframe tbody tr th {\n",
       "        vertical-align: top;\n",
       "    }\n",
       "\n",
       "    .dataframe thead th {\n",
       "        text-align: right;\n",
       "    }\n",
       "</style>\n",
       "<table border=\"1\" class=\"dataframe\">\n",
       "  <thead>\n",
       "    <tr style=\"text-align: right;\">\n",
       "      <th></th>\n",
       "      <th>ids</th>\n",
       "      <th>description</th>\n",
       "      <th>views</th>\n",
       "      <th>date</th>\n",
       "      <th>likes</th>\n",
       "      <th>dislikes</th>\n",
       "      <th>length</th>\n",
       "      <th>Comments</th>\n",
       "      <th>number</th>\n",
       "      <th>to</th>\n",
       "      <th>...</th>\n",
       "      <th>these</th>\n",
       "      <th>are</th>\n",
       "      <th>lg</th>\n",
       "      <th>usa</th>\n",
       "      <th>s</th>\n",
       "      <th>sweet</th>\n",
       "      <th>or</th>\n",
       "      <th>rice</th>\n",
       "      <th>rie</th>\n",
       "      <th>butter</th>\n",
       "    </tr>\n",
       "  </thead>\n",
       "  <tbody>\n",
       "    <tr>\n",
       "      <td>0</td>\n",
       "      <td>8K7XiEOx3Fw</td>\n",
       "      <td>Alix is testing Amazon's best selling air frye...</td>\n",
       "      <td>104887.0</td>\n",
       "      <td>09/03/20</td>\n",
       "      <td>5108.0</td>\n",
       "      <td>307.0</td>\n",
       "      <td>750.0</td>\n",
       "      <td>['4 hrs to make mash potato delete your channe...</td>\n",
       "      <td>0</td>\n",
       "      <td>0</td>\n",
       "      <td>...</td>\n",
       "      <td>0</td>\n",
       "      <td>0</td>\n",
       "      <td>0</td>\n",
       "      <td>0</td>\n",
       "      <td>0</td>\n",
       "      <td>0</td>\n",
       "      <td>0</td>\n",
       "      <td>0</td>\n",
       "      <td>0</td>\n",
       "      <td>0</td>\n",
       "    </tr>\n",
       "    <tr>\n",
       "      <td>1</td>\n",
       "      <td>ysVnhqwlDbo</td>\n",
       "      <td>Toast in 2020 is far superior to anything you'...</td>\n",
       "      <td>128680.0</td>\n",
       "      <td>07/03/20</td>\n",
       "      <td>3932.0</td>\n",
       "      <td>88.0</td>\n",
       "      <td>342.0</td>\n",
       "      <td>['Pretty intense music for some toasts...', 'W...</td>\n",
       "      <td>1</td>\n",
       "      <td>1</td>\n",
       "      <td>...</td>\n",
       "      <td>0</td>\n",
       "      <td>0</td>\n",
       "      <td>0</td>\n",
       "      <td>0</td>\n",
       "      <td>0</td>\n",
       "      <td>0</td>\n",
       "      <td>0</td>\n",
       "      <td>0</td>\n",
       "      <td>0</td>\n",
       "      <td>0</td>\n",
       "    </tr>\n",
       "    <tr>\n",
       "      <td>2</td>\n",
       "      <td>OoH1oGAJ7jI</td>\n",
       "      <td>Andrew and Rie are swapping their favorite sna...</td>\n",
       "      <td>832586.0</td>\n",
       "      <td>07/03/20</td>\n",
       "      <td>23600.0</td>\n",
       "      <td>341.0</td>\n",
       "      <td>774.0</td>\n",
       "      <td>['Andrew seems like a craving pregnant woman. ...</td>\n",
       "      <td>0</td>\n",
       "      <td>0</td>\n",
       "      <td>...</td>\n",
       "      <td>0</td>\n",
       "      <td>0</td>\n",
       "      <td>0</td>\n",
       "      <td>0</td>\n",
       "      <td>0</td>\n",
       "      <td>0</td>\n",
       "      <td>0</td>\n",
       "      <td>0</td>\n",
       "      <td>1</td>\n",
       "      <td>0</td>\n",
       "    </tr>\n",
       "    <tr>\n",
       "      <td>3</td>\n",
       "      <td>7xycoVXyFGE</td>\n",
       "      <td>Inspired by bread pudding and crème brûlée, th...</td>\n",
       "      <td>105588.0</td>\n",
       "      <td>05/03/20</td>\n",
       "      <td>4421.0</td>\n",
       "      <td>73.0</td>\n",
       "      <td>214.0</td>\n",
       "      <td>['Ngl all of the mini voice cracks in her voic...</td>\n",
       "      <td>0</td>\n",
       "      <td>0</td>\n",
       "      <td>...</td>\n",
       "      <td>0</td>\n",
       "      <td>0</td>\n",
       "      <td>0</td>\n",
       "      <td>0</td>\n",
       "      <td>0</td>\n",
       "      <td>0</td>\n",
       "      <td>0</td>\n",
       "      <td>0</td>\n",
       "      <td>0</td>\n",
       "      <td>0</td>\n",
       "    </tr>\n",
       "    <tr>\n",
       "      <td>4</td>\n",
       "      <td>oUeanf1tg7U</td>\n",
       "      <td>The tastiest dumplings you ever did see. Shop ...</td>\n",
       "      <td>324847.0</td>\n",
       "      <td>05/03/20</td>\n",
       "      <td>8608.0</td>\n",
       "      <td>175.0</td>\n",
       "      <td>383.0</td>\n",
       "      <td>['Rather than being gentle with the dough, the...</td>\n",
       "      <td>1</td>\n",
       "      <td>1</td>\n",
       "      <td>...</td>\n",
       "      <td>0</td>\n",
       "      <td>0</td>\n",
       "      <td>0</td>\n",
       "      <td>0</td>\n",
       "      <td>0</td>\n",
       "      <td>0</td>\n",
       "      <td>0</td>\n",
       "      <td>0</td>\n",
       "      <td>0</td>\n",
       "      <td>0</td>\n",
       "    </tr>\n",
       "  </tbody>\n",
       "</table>\n",
       "<p>5 rows × 106 columns</p>\n",
       "</div>"
      ],
      "text/plain": [
       "           ids                                        description     views  \\\n",
       "0  8K7XiEOx3Fw  Alix is testing Amazon's best selling air frye...  104887.0   \n",
       "1  ysVnhqwlDbo  Toast in 2020 is far superior to anything you'...  128680.0   \n",
       "2  OoH1oGAJ7jI  Andrew and Rie are swapping their favorite sna...  832586.0   \n",
       "3  7xycoVXyFGE  Inspired by bread pudding and crème brûlée, th...  105588.0   \n",
       "4  oUeanf1tg7U  The tastiest dumplings you ever did see. Shop ...  324847.0   \n",
       "\n",
       "       date    likes  dislikes  length  \\\n",
       "0  09/03/20   5108.0     307.0   750.0   \n",
       "1  07/03/20   3932.0      88.0   342.0   \n",
       "2  07/03/20  23600.0     341.0   774.0   \n",
       "3  05/03/20   4421.0      73.0   214.0   \n",
       "4  05/03/20   8608.0     175.0   383.0   \n",
       "\n",
       "                                            Comments  number  to  ...  these  \\\n",
       "0  ['4 hrs to make mash potato delete your channe...       0   0  ...      0   \n",
       "1  ['Pretty intense music for some toasts...', 'W...       1   1  ...      0   \n",
       "2  ['Andrew seems like a craving pregnant woman. ...       0   0  ...      0   \n",
       "3  ['Ngl all of the mini voice cracks in her voic...       0   0  ...      0   \n",
       "4  ['Rather than being gentle with the dough, the...       1   1  ...      0   \n",
       "\n",
       "   are  lg  usa  s  sweet  or  rice  rie  butter  \n",
       "0    0   0    0  0      0   0     0    0       0  \n",
       "1    0   0    0  0      0   0     0    0       0  \n",
       "2    0   0    0  0      0   0     0    1       0  \n",
       "3    0   0    0  0      0   0     0    0       0  \n",
       "4    0   0    0  0      0   0     0    0       0  \n",
       "\n",
       "[5 rows x 106 columns]"
      ]
     },
     "execution_count": 144,
     "metadata": {},
     "output_type": "execute_result"
    }
   ],
   "source": [
    "all_data.head(5)"
   ]
  },
  {
   "cell_type": "markdown",
   "metadata": {
    "colab_type": "text",
    "id": "z4uZpLDDYO5R"
   },
   "source": [
    "### 2. Bag of Words for description"
   ]
  },
  {
   "cell_type": "code",
   "execution_count": 145,
   "metadata": {
    "colab": {
     "base_uri": "https://localhost:8080/",
     "height": 439
    },
    "colab_type": "code",
    "id": "jFfrPNvzqxSE",
    "outputId": "053342bb-c983-4ef0-b4d8-63032274ddb1"
   },
   "outputs": [],
   "source": [
    "# change to lower case\n",
    "description = all_data['description'].str.lower()"
   ]
  },
  {
   "cell_type": "code",
   "execution_count": 146,
   "metadata": {},
   "outputs": [],
   "source": [
    "description = description.apply(lambda x:str(x))"
   ]
  },
  {
   "cell_type": "code",
   "execution_count": 147,
   "metadata": {},
   "outputs": [],
   "source": [
    "tokenized_description = description.apply(word_tokenize)"
   ]
  },
  {
   "cell_type": "code",
   "execution_count": 148,
   "metadata": {},
   "outputs": [],
   "source": [
    "stop_words_list = stopwords.words('english')\n",
    "stop_words_list.remove('not')\n",
    "symbol_list = [\"'\",\"/\",\"\\\\\", \",\",\".\",\";\",\"$\",\"(\",\")\",\"..\", \"...\", \"?\",\"!\", \":\",\"-\",\"]\",\"[\", \"#\", \"``\", \"''\"]"
   ]
  },
  {
   "cell_type": "code",
   "execution_count": 149,
   "metadata": {},
   "outputs": [],
   "source": [
    "# remove stop words\n",
    "tokenized_description = tokenized_description.apply(lambda x: [i for i in x if i not in stop_words_list])"
   ]
  },
  {
   "cell_type": "code",
   "execution_count": 150,
   "metadata": {},
   "outputs": [],
   "source": [
    "# handling not words\n",
    "for j in range(len(tokenized_description)):\n",
    "  for i in range(len(tokenized_description[j])):\n",
    "    try:\n",
    "      if \"n't\" in tokenized_description[j][i] or tokenized_description[j][i] == \"not\":\n",
    "        tokenized_description[j].pop(i)\n",
    "        tokenized_description[j][i] = 'not_' + tokenized_description[j][i]\n",
    "    except:\n",
    "      pass"
   ]
  },
  {
   "cell_type": "code",
   "execution_count": 151,
   "metadata": {},
   "outputs": [],
   "source": [
    "# Stemming\n",
    "ps = PorterStemmer()\n",
    "stemmed_description = tokenized_description.apply(lambda x: [ps.stem(i) for i in x])"
   ]
  },
  {
   "cell_type": "code",
   "execution_count": 152,
   "metadata": {},
   "outputs": [
    {
     "data": {
      "text/plain": [
       "0    [alix, test, amazon, 's, best, sell, air, frye...\n",
       "1    [toast, 2020, far, superior, anyth, 've, ever,...\n",
       "2    [andrew, rie, swap, favorit, snack, ,, 's, pre...\n",
       "3    [inspir, bread, pud, crème, brûlée, ,, stuf, f...\n",
       "4    [tastiest, dumpl, ever, see, ., shop, new, tas...\n",
       "Name: description, dtype: object"
      ]
     },
     "execution_count": 152,
     "metadata": {},
     "output_type": "execute_result"
    }
   ],
   "source": [
    "stemmed_description.head()"
   ]
  },
  {
   "cell_type": "code",
   "execution_count": 153,
   "metadata": {},
   "outputs": [],
   "source": [
    "# Create commen word vectors\n",
    "word_freq2 = {}\n",
    "for sentence in stemmed_description:\n",
    "    for word in sentence:\n",
    "        if word not in word_freq2.keys():\n",
    "            word_freq2[word] = 1\n",
    "        else:\n",
    "            word_freq2[word] += 1"
   ]
  },
  {
   "cell_type": "code",
   "execution_count": 154,
   "metadata": {},
   "outputs": [
    {
     "data": {
      "text/plain": [
       "6213"
      ]
     },
     "execution_count": 154,
     "metadata": {},
     "output_type": "execute_result"
    }
   ],
   "source": [
    "len(word_freq2)"
   ]
  },
  {
   "cell_type": "markdown",
   "metadata": {},
   "source": [
    "Since there are only 6213 word in word_freq2 and description is not as important as title, we will use only 100 words in it."
   ]
  },
  {
   "cell_type": "code",
   "execution_count": 155,
   "metadata": {},
   "outputs": [],
   "source": [
    "word_vector2 = heapq.nlargest(100, word_freq2, key=word_freq2.get)"
   ]
  },
  {
   "cell_type": "code",
   "execution_count": 156,
   "metadata": {},
   "outputs": [],
   "source": [
    "# Since the word vector contains a lot of website link (tell people to follow them), we delete some of it to decrese colinearity\n",
    "word_vector_description = [\n",
    " 'http',\n",
    " 'food',\n",
    " 'merch',\n",
    " 'recip',\n",
    " 'line',\n",
    " 'facebook',\n",
    " 'network',\n",
    " 'instagram',\n",
    " 'way',\n",
    " 'offici',\n",
    " 'everi',\n",
    " 'help',\n",
    " 'world',\n",
    " 'thing',\n",
    " 'interact',\n",
    " 'lover',\n",
    " 'channel',\n",
    " 'youtub',\n",
    " 'talent',\n",
    " 'websit',\n",
    " 'cookwar',\n",
    " 'largest',\n",
    " 'connect',\n",
    " 'world-class',\n",
    " 'kitchenwar',\n",
    " 'food.connect',\n",
    " 'new',\n",
    " 'newslett',\n",
    " 'shop',\n",
    " 'audio',\n",
    " 'musiclicens',\n",
    " 'like',\n",
    " 'networkhttp',\n",
    " 'credit',\n",
    " 'music',\n",
    " 'product',\n",
    " 'warner',\n",
    " 'chappel',\n",
    " 'check',\n",
    " 'subscrib',\n",
    " 'make',\n",
    " 'want',\n",
    " 'get',\n",
    " 'delici',\n",
    " 'provid',\n",
    " 'audioblock',\n",
    " 'tri',\n",
    " 'dish',\n",
    " 'favorit',\n",
    " 'chicken',\n",
    " 'holiday',\n",
    " 'perfect',\n",
    " 'easi',\n",
    " 'imageshttp',\n",
    " 'networksfx',\n",
    " 'season',\n",
    " 'one',\n",
    " 'dinner',\n",
    " 'chees',\n",
    " 'cooki',\n",
    " 'spice',\n",
    " 'follow',\n",
    " 'learn',\n",
    " 'dessert',\n",
    " 'parti',\n",
    " 'next']"
   ]
  },
  {
   "cell_type": "code",
   "execution_count": 157,
   "metadata": {},
   "outputs": [],
   "source": [
    "def word_vectors2(sentence):\n",
    "  sent_vect = []\n",
    "  for i in word_vector_description:\n",
    "    if i in sentence:\n",
    "      sent_vect.append(1)\n",
    "    else:\n",
    "      sent_vect.append(0)\n",
    "  return sent_vect"
   ]
  },
  {
   "cell_type": "code",
   "execution_count": 158,
   "metadata": {},
   "outputs": [],
   "source": [
    "word_list_decription = stemmed_description.apply(word_vectors2)"
   ]
  },
  {
   "cell_type": "code",
   "execution_count": 159,
   "metadata": {},
   "outputs": [
    {
     "data": {
      "text/plain": [
       "0    [1, 1, 1, 1, 1, 1, 1, 1, 1, 1, 1, 1, 1, 1, 1, ...\n",
       "1    [1, 1, 1, 1, 1, 1, 1, 1, 1, 1, 1, 1, 1, 1, 1, ...\n",
       "2    [1, 1, 1, 1, 1, 1, 1, 1, 1, 1, 1, 1, 1, 1, 1, ...\n",
       "3    [1, 0, 0, 1, 0, 0, 0, 1, 0, 0, 0, 0, 0, 0, 0, ...\n",
       "4    [1, 1, 1, 1, 1, 1, 1, 1, 1, 1, 1, 1, 1, 1, 1, ...\n",
       "Name: description, dtype: object"
      ]
     },
     "execution_count": 159,
     "metadata": {},
     "output_type": "execute_result"
    }
   ],
   "source": [
    "word_list_decription.head()"
   ]
  },
  {
   "cell_type": "code",
   "execution_count": 160,
   "metadata": {},
   "outputs": [],
   "source": [
    "description_columns = ['descrip_'+i for i in word_vector_description]"
   ]
  },
  {
   "cell_type": "code",
   "execution_count": 161,
   "metadata": {},
   "outputs": [],
   "source": [
    "description_df = pd.DataFrame(list(word_list_decription),columns=description_columns)"
   ]
  },
  {
   "cell_type": "code",
   "execution_count": 162,
   "metadata": {},
   "outputs": [
    {
     "data": {
      "text/html": [
       "<div>\n",
       "<style scoped>\n",
       "    .dataframe tbody tr th:only-of-type {\n",
       "        vertical-align: middle;\n",
       "    }\n",
       "\n",
       "    .dataframe tbody tr th {\n",
       "        vertical-align: top;\n",
       "    }\n",
       "\n",
       "    .dataframe thead th {\n",
       "        text-align: right;\n",
       "    }\n",
       "</style>\n",
       "<table border=\"1\" class=\"dataframe\">\n",
       "  <thead>\n",
       "    <tr style=\"text-align: right;\">\n",
       "      <th></th>\n",
       "      <th>descrip_http</th>\n",
       "      <th>descrip_food</th>\n",
       "      <th>descrip_merch</th>\n",
       "      <th>descrip_recip</th>\n",
       "      <th>descrip_line</th>\n",
       "      <th>descrip_facebook</th>\n",
       "      <th>descrip_network</th>\n",
       "      <th>descrip_instagram</th>\n",
       "      <th>descrip_way</th>\n",
       "      <th>descrip_offici</th>\n",
       "      <th>...</th>\n",
       "      <th>descrip_one</th>\n",
       "      <th>descrip_dinner</th>\n",
       "      <th>descrip_chees</th>\n",
       "      <th>descrip_cooki</th>\n",
       "      <th>descrip_spice</th>\n",
       "      <th>descrip_follow</th>\n",
       "      <th>descrip_learn</th>\n",
       "      <th>descrip_dessert</th>\n",
       "      <th>descrip_parti</th>\n",
       "      <th>descrip_next</th>\n",
       "    </tr>\n",
       "  </thead>\n",
       "  <tbody>\n",
       "    <tr>\n",
       "      <td>0</td>\n",
       "      <td>1</td>\n",
       "      <td>1</td>\n",
       "      <td>1</td>\n",
       "      <td>1</td>\n",
       "      <td>1</td>\n",
       "      <td>1</td>\n",
       "      <td>1</td>\n",
       "      <td>1</td>\n",
       "      <td>1</td>\n",
       "      <td>1</td>\n",
       "      <td>...</td>\n",
       "      <td>0</td>\n",
       "      <td>0</td>\n",
       "      <td>0</td>\n",
       "      <td>0</td>\n",
       "      <td>0</td>\n",
       "      <td>1</td>\n",
       "      <td>0</td>\n",
       "      <td>0</td>\n",
       "      <td>0</td>\n",
       "      <td>0</td>\n",
       "    </tr>\n",
       "    <tr>\n",
       "      <td>1</td>\n",
       "      <td>1</td>\n",
       "      <td>1</td>\n",
       "      <td>1</td>\n",
       "      <td>1</td>\n",
       "      <td>1</td>\n",
       "      <td>1</td>\n",
       "      <td>1</td>\n",
       "      <td>1</td>\n",
       "      <td>1</td>\n",
       "      <td>1</td>\n",
       "      <td>...</td>\n",
       "      <td>0</td>\n",
       "      <td>0</td>\n",
       "      <td>0</td>\n",
       "      <td>0</td>\n",
       "      <td>0</td>\n",
       "      <td>0</td>\n",
       "      <td>0</td>\n",
       "      <td>0</td>\n",
       "      <td>0</td>\n",
       "      <td>0</td>\n",
       "    </tr>\n",
       "    <tr>\n",
       "      <td>2</td>\n",
       "      <td>1</td>\n",
       "      <td>1</td>\n",
       "      <td>1</td>\n",
       "      <td>1</td>\n",
       "      <td>1</td>\n",
       "      <td>1</td>\n",
       "      <td>1</td>\n",
       "      <td>1</td>\n",
       "      <td>1</td>\n",
       "      <td>1</td>\n",
       "      <td>...</td>\n",
       "      <td>0</td>\n",
       "      <td>0</td>\n",
       "      <td>0</td>\n",
       "      <td>0</td>\n",
       "      <td>0</td>\n",
       "      <td>0</td>\n",
       "      <td>0</td>\n",
       "      <td>0</td>\n",
       "      <td>0</td>\n",
       "      <td>0</td>\n",
       "    </tr>\n",
       "    <tr>\n",
       "      <td>3</td>\n",
       "      <td>1</td>\n",
       "      <td>0</td>\n",
       "      <td>0</td>\n",
       "      <td>1</td>\n",
       "      <td>0</td>\n",
       "      <td>0</td>\n",
       "      <td>0</td>\n",
       "      <td>1</td>\n",
       "      <td>0</td>\n",
       "      <td>0</td>\n",
       "      <td>...</td>\n",
       "      <td>0</td>\n",
       "      <td>0</td>\n",
       "      <td>0</td>\n",
       "      <td>0</td>\n",
       "      <td>0</td>\n",
       "      <td>1</td>\n",
       "      <td>0</td>\n",
       "      <td>0</td>\n",
       "      <td>0</td>\n",
       "      <td>0</td>\n",
       "    </tr>\n",
       "    <tr>\n",
       "      <td>4</td>\n",
       "      <td>1</td>\n",
       "      <td>1</td>\n",
       "      <td>1</td>\n",
       "      <td>1</td>\n",
       "      <td>1</td>\n",
       "      <td>1</td>\n",
       "      <td>1</td>\n",
       "      <td>1</td>\n",
       "      <td>1</td>\n",
       "      <td>1</td>\n",
       "      <td>...</td>\n",
       "      <td>0</td>\n",
       "      <td>0</td>\n",
       "      <td>0</td>\n",
       "      <td>0</td>\n",
       "      <td>0</td>\n",
       "      <td>0</td>\n",
       "      <td>0</td>\n",
       "      <td>0</td>\n",
       "      <td>0</td>\n",
       "      <td>0</td>\n",
       "    </tr>\n",
       "  </tbody>\n",
       "</table>\n",
       "<p>5 rows × 66 columns</p>\n",
       "</div>"
      ],
      "text/plain": [
       "   descrip_http  descrip_food  descrip_merch  descrip_recip  descrip_line  \\\n",
       "0             1             1              1              1             1   \n",
       "1             1             1              1              1             1   \n",
       "2             1             1              1              1             1   \n",
       "3             1             0              0              1             0   \n",
       "4             1             1              1              1             1   \n",
       "\n",
       "   descrip_facebook  descrip_network  descrip_instagram  descrip_way  \\\n",
       "0                 1                1                  1            1   \n",
       "1                 1                1                  1            1   \n",
       "2                 1                1                  1            1   \n",
       "3                 0                0                  1            0   \n",
       "4                 1                1                  1            1   \n",
       "\n",
       "   descrip_offici  ...  descrip_one  descrip_dinner  descrip_chees  \\\n",
       "0               1  ...            0               0              0   \n",
       "1               1  ...            0               0              0   \n",
       "2               1  ...            0               0              0   \n",
       "3               0  ...            0               0              0   \n",
       "4               1  ...            0               0              0   \n",
       "\n",
       "   descrip_cooki  descrip_spice  descrip_follow  descrip_learn  \\\n",
       "0              0              0               1              0   \n",
       "1              0              0               0              0   \n",
       "2              0              0               0              0   \n",
       "3              0              0               1              0   \n",
       "4              0              0               0              0   \n",
       "\n",
       "   descrip_dessert  descrip_parti  descrip_next  \n",
       "0                0              0             0  \n",
       "1                0              0             0  \n",
       "2                0              0             0  \n",
       "3                0              0             0  \n",
       "4                0              0             0  \n",
       "\n",
       "[5 rows x 66 columns]"
      ]
     },
     "execution_count": 162,
     "metadata": {},
     "output_type": "execute_result"
    }
   ],
   "source": [
    "description_df.head()"
   ]
  },
  {
   "cell_type": "code",
   "execution_count": 163,
   "metadata": {},
   "outputs": [],
   "source": [
    "all_data = pd.concat([all_data, description_df], axis = 1)"
   ]
  },
  {
   "cell_type": "code",
   "execution_count": 164,
   "metadata": {},
   "outputs": [],
   "source": [
    "all_data = all_data.drop(columns = ['description'])"
   ]
  },
  {
   "cell_type": "code",
   "execution_count": 165,
   "metadata": {},
   "outputs": [
    {
     "data": {
      "text/html": [
       "<div>\n",
       "<style scoped>\n",
       "    .dataframe tbody tr th:only-of-type {\n",
       "        vertical-align: middle;\n",
       "    }\n",
       "\n",
       "    .dataframe tbody tr th {\n",
       "        vertical-align: top;\n",
       "    }\n",
       "\n",
       "    .dataframe thead th {\n",
       "        text-align: right;\n",
       "    }\n",
       "</style>\n",
       "<table border=\"1\" class=\"dataframe\">\n",
       "  <thead>\n",
       "    <tr style=\"text-align: right;\">\n",
       "      <th></th>\n",
       "      <th>ids</th>\n",
       "      <th>views</th>\n",
       "      <th>date</th>\n",
       "      <th>likes</th>\n",
       "      <th>dislikes</th>\n",
       "      <th>length</th>\n",
       "      <th>Comments</th>\n",
       "      <th>number</th>\n",
       "      <th>to</th>\n",
       "      <th>recip</th>\n",
       "      <th>...</th>\n",
       "      <th>descrip_one</th>\n",
       "      <th>descrip_dinner</th>\n",
       "      <th>descrip_chees</th>\n",
       "      <th>descrip_cooki</th>\n",
       "      <th>descrip_spice</th>\n",
       "      <th>descrip_follow</th>\n",
       "      <th>descrip_learn</th>\n",
       "      <th>descrip_dessert</th>\n",
       "      <th>descrip_parti</th>\n",
       "      <th>descrip_next</th>\n",
       "    </tr>\n",
       "  </thead>\n",
       "  <tbody>\n",
       "    <tr>\n",
       "      <td>0</td>\n",
       "      <td>8K7XiEOx3Fw</td>\n",
       "      <td>104887.0</td>\n",
       "      <td>09/03/20</td>\n",
       "      <td>5108.0</td>\n",
       "      <td>307.0</td>\n",
       "      <td>750.0</td>\n",
       "      <td>['4 hrs to make mash potato delete your channe...</td>\n",
       "      <td>0</td>\n",
       "      <td>0</td>\n",
       "      <td>0</td>\n",
       "      <td>...</td>\n",
       "      <td>0</td>\n",
       "      <td>0</td>\n",
       "      <td>0</td>\n",
       "      <td>0</td>\n",
       "      <td>0</td>\n",
       "      <td>1</td>\n",
       "      <td>0</td>\n",
       "      <td>0</td>\n",
       "      <td>0</td>\n",
       "      <td>0</td>\n",
       "    </tr>\n",
       "    <tr>\n",
       "      <td>1</td>\n",
       "      <td>ysVnhqwlDbo</td>\n",
       "      <td>128680.0</td>\n",
       "      <td>07/03/20</td>\n",
       "      <td>3932.0</td>\n",
       "      <td>88.0</td>\n",
       "      <td>342.0</td>\n",
       "      <td>['Pretty intense music for some toasts...', 'W...</td>\n",
       "      <td>1</td>\n",
       "      <td>1</td>\n",
       "      <td>0</td>\n",
       "      <td>...</td>\n",
       "      <td>0</td>\n",
       "      <td>0</td>\n",
       "      <td>0</td>\n",
       "      <td>0</td>\n",
       "      <td>0</td>\n",
       "      <td>0</td>\n",
       "      <td>0</td>\n",
       "      <td>0</td>\n",
       "      <td>0</td>\n",
       "      <td>0</td>\n",
       "    </tr>\n",
       "    <tr>\n",
       "      <td>2</td>\n",
       "      <td>OoH1oGAJ7jI</td>\n",
       "      <td>832586.0</td>\n",
       "      <td>07/03/20</td>\n",
       "      <td>23600.0</td>\n",
       "      <td>341.0</td>\n",
       "      <td>774.0</td>\n",
       "      <td>['Andrew seems like a craving pregnant woman. ...</td>\n",
       "      <td>0</td>\n",
       "      <td>0</td>\n",
       "      <td>0</td>\n",
       "      <td>...</td>\n",
       "      <td>0</td>\n",
       "      <td>0</td>\n",
       "      <td>0</td>\n",
       "      <td>0</td>\n",
       "      <td>0</td>\n",
       "      <td>0</td>\n",
       "      <td>0</td>\n",
       "      <td>0</td>\n",
       "      <td>0</td>\n",
       "      <td>0</td>\n",
       "    </tr>\n",
       "    <tr>\n",
       "      <td>3</td>\n",
       "      <td>7xycoVXyFGE</td>\n",
       "      <td>105588.0</td>\n",
       "      <td>05/03/20</td>\n",
       "      <td>4421.0</td>\n",
       "      <td>73.0</td>\n",
       "      <td>214.0</td>\n",
       "      <td>['Ngl all of the mini voice cracks in her voic...</td>\n",
       "      <td>0</td>\n",
       "      <td>0</td>\n",
       "      <td>0</td>\n",
       "      <td>...</td>\n",
       "      <td>0</td>\n",
       "      <td>0</td>\n",
       "      <td>0</td>\n",
       "      <td>0</td>\n",
       "      <td>0</td>\n",
       "      <td>1</td>\n",
       "      <td>0</td>\n",
       "      <td>0</td>\n",
       "      <td>0</td>\n",
       "      <td>0</td>\n",
       "    </tr>\n",
       "    <tr>\n",
       "      <td>4</td>\n",
       "      <td>oUeanf1tg7U</td>\n",
       "      <td>324847.0</td>\n",
       "      <td>05/03/20</td>\n",
       "      <td>8608.0</td>\n",
       "      <td>175.0</td>\n",
       "      <td>383.0</td>\n",
       "      <td>['Rather than being gentle with the dough, the...</td>\n",
       "      <td>1</td>\n",
       "      <td>1</td>\n",
       "      <td>0</td>\n",
       "      <td>...</td>\n",
       "      <td>0</td>\n",
       "      <td>0</td>\n",
       "      <td>0</td>\n",
       "      <td>0</td>\n",
       "      <td>0</td>\n",
       "      <td>0</td>\n",
       "      <td>0</td>\n",
       "      <td>0</td>\n",
       "      <td>0</td>\n",
       "      <td>0</td>\n",
       "    </tr>\n",
       "  </tbody>\n",
       "</table>\n",
       "<p>5 rows × 171 columns</p>\n",
       "</div>"
      ],
      "text/plain": [
       "           ids     views      date    likes  dislikes  length  \\\n",
       "0  8K7XiEOx3Fw  104887.0  09/03/20   5108.0     307.0   750.0   \n",
       "1  ysVnhqwlDbo  128680.0  07/03/20   3932.0      88.0   342.0   \n",
       "2  OoH1oGAJ7jI  832586.0  07/03/20  23600.0     341.0   774.0   \n",
       "3  7xycoVXyFGE  105588.0  05/03/20   4421.0      73.0   214.0   \n",
       "4  oUeanf1tg7U  324847.0  05/03/20   8608.0     175.0   383.0   \n",
       "\n",
       "                                            Comments  number  to  recip  ...  \\\n",
       "0  ['4 hrs to make mash potato delete your channe...       0   0      0  ...   \n",
       "1  ['Pretty intense music for some toasts...', 'W...       1   1      0  ...   \n",
       "2  ['Andrew seems like a craving pregnant woman. ...       0   0      0  ...   \n",
       "3  ['Ngl all of the mini voice cracks in her voic...       0   0      0  ...   \n",
       "4  ['Rather than being gentle with the dough, the...       1   1      0  ...   \n",
       "\n",
       "   descrip_one  descrip_dinner  descrip_chees  descrip_cooki  descrip_spice  \\\n",
       "0            0               0              0              0              0   \n",
       "1            0               0              0              0              0   \n",
       "2            0               0              0              0              0   \n",
       "3            0               0              0              0              0   \n",
       "4            0               0              0              0              0   \n",
       "\n",
       "   descrip_follow  descrip_learn  descrip_dessert  descrip_parti  descrip_next  \n",
       "0               1              0                0              0             0  \n",
       "1               0              0                0              0             0  \n",
       "2               0              0                0              0             0  \n",
       "3               1              0                0              0             0  \n",
       "4               0              0                0              0             0  \n",
       "\n",
       "[5 rows x 171 columns]"
      ]
     },
     "execution_count": 165,
     "metadata": {},
     "output_type": "execute_result"
    }
   ],
   "source": [
    "all_data.head()"
   ]
  },
  {
   "cell_type": "markdown",
   "metadata": {},
   "source": [
    "### 3. Treating likes and dislikes "
   ]
  },
  {
   "cell_type": "code",
   "execution_count": 166,
   "metadata": {},
   "outputs": [],
   "source": [
    "ratio = all_data['likes']/all_data['dislikes']"
   ]
  },
  {
   "cell_type": "code",
   "execution_count": 167,
   "metadata": {},
   "outputs": [],
   "source": [
    "all_data['ratio'] = ratio"
   ]
  },
  {
   "cell_type": "code",
   "execution_count": 168,
   "metadata": {},
   "outputs": [],
   "source": [
    "all_data = all_data.drop(columns = ['likes', 'dislikes'])"
   ]
  },
  {
   "cell_type": "code",
   "execution_count": 169,
   "metadata": {},
   "outputs": [
    {
     "data": {
      "text/html": [
       "<div>\n",
       "<style scoped>\n",
       "    .dataframe tbody tr th:only-of-type {\n",
       "        vertical-align: middle;\n",
       "    }\n",
       "\n",
       "    .dataframe tbody tr th {\n",
       "        vertical-align: top;\n",
       "    }\n",
       "\n",
       "    .dataframe thead th {\n",
       "        text-align: right;\n",
       "    }\n",
       "</style>\n",
       "<table border=\"1\" class=\"dataframe\">\n",
       "  <thead>\n",
       "    <tr style=\"text-align: right;\">\n",
       "      <th></th>\n",
       "      <th>ids</th>\n",
       "      <th>views</th>\n",
       "      <th>date</th>\n",
       "      <th>length</th>\n",
       "      <th>Comments</th>\n",
       "      <th>number</th>\n",
       "      <th>to</th>\n",
       "      <th>recip</th>\n",
       "      <th>make</th>\n",
       "      <th>a</th>\n",
       "      <th>...</th>\n",
       "      <th>descrip_dinner</th>\n",
       "      <th>descrip_chees</th>\n",
       "      <th>descrip_cooki</th>\n",
       "      <th>descrip_spice</th>\n",
       "      <th>descrip_follow</th>\n",
       "      <th>descrip_learn</th>\n",
       "      <th>descrip_dessert</th>\n",
       "      <th>descrip_parti</th>\n",
       "      <th>descrip_next</th>\n",
       "      <th>ratio</th>\n",
       "    </tr>\n",
       "  </thead>\n",
       "  <tbody>\n",
       "    <tr>\n",
       "      <td>0</td>\n",
       "      <td>8K7XiEOx3Fw</td>\n",
       "      <td>104887.0</td>\n",
       "      <td>09/03/20</td>\n",
       "      <td>750.0</td>\n",
       "      <td>['4 hrs to make mash potato delete your channe...</td>\n",
       "      <td>0</td>\n",
       "      <td>0</td>\n",
       "      <td>0</td>\n",
       "      <td>0</td>\n",
       "      <td>0</td>\n",
       "      <td>...</td>\n",
       "      <td>0</td>\n",
       "      <td>0</td>\n",
       "      <td>0</td>\n",
       "      <td>0</td>\n",
       "      <td>1</td>\n",
       "      <td>0</td>\n",
       "      <td>0</td>\n",
       "      <td>0</td>\n",
       "      <td>0</td>\n",
       "      <td>16.638436</td>\n",
       "    </tr>\n",
       "    <tr>\n",
       "      <td>1</td>\n",
       "      <td>ysVnhqwlDbo</td>\n",
       "      <td>128680.0</td>\n",
       "      <td>07/03/20</td>\n",
       "      <td>342.0</td>\n",
       "      <td>['Pretty intense music for some toasts...', 'W...</td>\n",
       "      <td>1</td>\n",
       "      <td>1</td>\n",
       "      <td>0</td>\n",
       "      <td>0</td>\n",
       "      <td>0</td>\n",
       "      <td>...</td>\n",
       "      <td>0</td>\n",
       "      <td>0</td>\n",
       "      <td>0</td>\n",
       "      <td>0</td>\n",
       "      <td>0</td>\n",
       "      <td>0</td>\n",
       "      <td>0</td>\n",
       "      <td>0</td>\n",
       "      <td>0</td>\n",
       "      <td>44.681818</td>\n",
       "    </tr>\n",
       "    <tr>\n",
       "      <td>2</td>\n",
       "      <td>OoH1oGAJ7jI</td>\n",
       "      <td>832586.0</td>\n",
       "      <td>07/03/20</td>\n",
       "      <td>774.0</td>\n",
       "      <td>['Andrew seems like a craving pregnant woman. ...</td>\n",
       "      <td>0</td>\n",
       "      <td>0</td>\n",
       "      <td>0</td>\n",
       "      <td>0</td>\n",
       "      <td>0</td>\n",
       "      <td>...</td>\n",
       "      <td>0</td>\n",
       "      <td>0</td>\n",
       "      <td>0</td>\n",
       "      <td>0</td>\n",
       "      <td>0</td>\n",
       "      <td>0</td>\n",
       "      <td>0</td>\n",
       "      <td>0</td>\n",
       "      <td>0</td>\n",
       "      <td>69.208211</td>\n",
       "    </tr>\n",
       "    <tr>\n",
       "      <td>3</td>\n",
       "      <td>7xycoVXyFGE</td>\n",
       "      <td>105588.0</td>\n",
       "      <td>05/03/20</td>\n",
       "      <td>214.0</td>\n",
       "      <td>['Ngl all of the mini voice cracks in her voic...</td>\n",
       "      <td>0</td>\n",
       "      <td>0</td>\n",
       "      <td>0</td>\n",
       "      <td>0</td>\n",
       "      <td>0</td>\n",
       "      <td>...</td>\n",
       "      <td>0</td>\n",
       "      <td>0</td>\n",
       "      <td>0</td>\n",
       "      <td>0</td>\n",
       "      <td>1</td>\n",
       "      <td>0</td>\n",
       "      <td>0</td>\n",
       "      <td>0</td>\n",
       "      <td>0</td>\n",
       "      <td>60.561644</td>\n",
       "    </tr>\n",
       "    <tr>\n",
       "      <td>4</td>\n",
       "      <td>oUeanf1tg7U</td>\n",
       "      <td>324847.0</td>\n",
       "      <td>05/03/20</td>\n",
       "      <td>383.0</td>\n",
       "      <td>['Rather than being gentle with the dough, the...</td>\n",
       "      <td>1</td>\n",
       "      <td>1</td>\n",
       "      <td>0</td>\n",
       "      <td>0</td>\n",
       "      <td>0</td>\n",
       "      <td>...</td>\n",
       "      <td>0</td>\n",
       "      <td>0</td>\n",
       "      <td>0</td>\n",
       "      <td>0</td>\n",
       "      <td>0</td>\n",
       "      <td>0</td>\n",
       "      <td>0</td>\n",
       "      <td>0</td>\n",
       "      <td>0</td>\n",
       "      <td>49.188571</td>\n",
       "    </tr>\n",
       "  </tbody>\n",
       "</table>\n",
       "<p>5 rows × 170 columns</p>\n",
       "</div>"
      ],
      "text/plain": [
       "           ids     views      date  length  \\\n",
       "0  8K7XiEOx3Fw  104887.0  09/03/20   750.0   \n",
       "1  ysVnhqwlDbo  128680.0  07/03/20   342.0   \n",
       "2  OoH1oGAJ7jI  832586.0  07/03/20   774.0   \n",
       "3  7xycoVXyFGE  105588.0  05/03/20   214.0   \n",
       "4  oUeanf1tg7U  324847.0  05/03/20   383.0   \n",
       "\n",
       "                                            Comments  number  to  recip  make  \\\n",
       "0  ['4 hrs to make mash potato delete your channe...       0   0      0     0   \n",
       "1  ['Pretty intense music for some toasts...', 'W...       1   1      0     0   \n",
       "2  ['Andrew seems like a craving pregnant woman. ...       0   0      0     0   \n",
       "3  ['Ngl all of the mini voice cracks in her voic...       0   0      0     0   \n",
       "4  ['Rather than being gentle with the dough, the...       1   1      0     0   \n",
       "\n",
       "   a  ...  descrip_dinner  descrip_chees  descrip_cooki  descrip_spice  \\\n",
       "0  0  ...               0              0              0              0   \n",
       "1  0  ...               0              0              0              0   \n",
       "2  0  ...               0              0              0              0   \n",
       "3  0  ...               0              0              0              0   \n",
       "4  0  ...               0              0              0              0   \n",
       "\n",
       "   descrip_follow  descrip_learn  descrip_dessert  descrip_parti  \\\n",
       "0               1              0                0              0   \n",
       "1               0              0                0              0   \n",
       "2               0              0                0              0   \n",
       "3               1              0                0              0   \n",
       "4               0              0                0              0   \n",
       "\n",
       "   descrip_next      ratio  \n",
       "0             0  16.638436  \n",
       "1             0  44.681818  \n",
       "2             0  69.208211  \n",
       "3             0  60.561644  \n",
       "4             0  49.188571  \n",
       "\n",
       "[5 rows x 170 columns]"
      ]
     },
     "execution_count": 169,
     "metadata": {},
     "output_type": "execute_result"
    }
   ],
   "source": [
    "all_data.head()"
   ]
  },
  {
   "cell_type": "markdown",
   "metadata": {
    "colab_type": "text",
    "id": "4VQGJXes07Qm"
   },
   "source": [
    "### 4. Topic modeling for comment"
   ]
  },
  {
   "cell_type": "code",
   "execution_count": 170,
   "metadata": {
    "colab": {},
    "colab_type": "code",
    "id": "WLcg1PFJYY8b"
   },
   "outputs": [],
   "source": [
    "comments = all_data['Comments']"
   ]
  },
  {
   "cell_type": "code",
   "execution_count": 171,
   "metadata": {},
   "outputs": [],
   "source": [
    "comments = comments.apply(lambda x:str(x))"
   ]
  },
  {
   "cell_type": "code",
   "execution_count": 172,
   "metadata": {},
   "outputs": [],
   "source": [
    "# revoming punctuation \n",
    "cleaned_comments = []\n",
    "for j in range(len(comments)):\n",
    "    text = ''\n",
    "    for i in range(len(comments[j])):\n",
    "        try:\n",
    "            if comments[j][i] in symbol_list:\n",
    "                continue\n",
    "            else:\n",
    "                text = text + comments[j][i]\n",
    "        \n",
    "        except:\n",
    "            pass\n",
    "    cleaned_comments.append(text)\n",
    "                "
   ]
  },
  {
   "cell_type": "code",
   "execution_count": 173,
   "metadata": {},
   "outputs": [],
   "source": [
    "all_data[\"cleaned comments\"] = cleaned_comments"
   ]
  },
  {
   "cell_type": "code",
   "execution_count": 174,
   "metadata": {},
   "outputs": [
    {
     "data": {
      "text/plain": [
       "pandas.core.series.Series"
      ]
     },
     "execution_count": 174,
     "metadata": {},
     "output_type": "execute_result"
    }
   ],
   "source": [
    "type(all_data[\"cleaned comments\"])"
   ]
  },
  {
   "cell_type": "code",
   "execution_count": 175,
   "metadata": {},
   "outputs": [],
   "source": [
    "# function to remove emojis\n",
    "def demojify(inputString):\n",
    "    return inputString.encode('ascii', 'ignore').decode('ascii')"
   ]
  },
  {
   "cell_type": "code",
   "execution_count": 176,
   "metadata": {},
   "outputs": [],
   "source": [
    "def stop_words_remove(x):\n",
    "    words = ' '.join([a for a in x.split(' ') if a not in stop_words_list])\n",
    "    return words"
   ]
  },
  {
   "cell_type": "code",
   "execution_count": 177,
   "metadata": {},
   "outputs": [
    {
     "name": "stderr",
     "output_type": "stream",
     "text": [
      "100%|██████████| 1324/1324 [00:00<00:00, 97533.39it/s]\n"
     ]
    }
   ],
   "source": [
    "# removing emojis\n",
    "all_data[\"cleaned comments\"] = all_data[\"cleaned comments\"].progress_apply(demojify)"
   ]
  },
  {
   "cell_type": "code",
   "execution_count": 178,
   "metadata": {},
   "outputs": [],
   "source": [
    "# converting to lowercase\n",
    "all_data[\"cleaned comments\"] = all_data[\"cleaned comments\"].str.lower()"
   ]
  },
  {
   "cell_type": "code",
   "execution_count": 179,
   "metadata": {
    "scrolled": true
   },
   "outputs": [
    {
     "name": "stderr",
     "output_type": "stream",
     "text": [
      "100%|██████████| 1324/1324 [00:02<00:00, 472.59it/s]\n"
     ]
    }
   ],
   "source": [
    "# removing stopwords \n",
    "all_data[\"cleaned comments\"] = all_data[\"cleaned comments\"].progress_apply(stop_words_remove)"
   ]
  },
  {
   "cell_type": "code",
   "execution_count": 180,
   "metadata": {
    "scrolled": true
   },
   "outputs": [
    {
     "name": "stderr",
     "output_type": "stream",
     "text": [
      "100%|██████████| 1324/1324 [00:03<00:00, 407.26it/s]\n"
     ]
    }
   ],
   "source": [
    "# tokenizing\n",
    "all_data[\"cleaned comments\"] = all_data[\"cleaned comments\"].progress_apply(word_tokenize)"
   ]
  },
  {
   "cell_type": "code",
   "execution_count": 181,
   "metadata": {},
   "outputs": [],
   "source": [
    "# Handling negation, create 'not_word'\n",
    "for j in range(len(all_data[\"cleaned comments\"] )):\n",
    "  for i in range(len(all_data[\"cleaned comments\"] [j])):\n",
    "    try:\n",
    "      if \"n't\" in all_data[\"cleaned comments\"] [j][i] or all_data[\"cleaned comments\"] [j][i] == \"not\":\n",
    "        all_data[\"cleaned comments\"] [j].pop(i)\n",
    "        all_data[\"cleaned comments\"] [j][i] = 'not_' + all_data[\"cleaned comments\"] [j][i]\n",
    "    except:\n",
    "      pass"
   ]
  },
  {
   "cell_type": "code",
   "execution_count": 182,
   "metadata": {
    "scrolled": true
   },
   "outputs": [
    {
     "name": "stderr",
     "output_type": "stream",
     "text": [
      "100%|██████████| 1324/1324 [00:17<00:00, 73.76it/s]\n"
     ]
    }
   ],
   "source": [
    "# stemming\n",
    "all_data[\"cleaned comments\"]  = all_data[\"cleaned comments\"] .progress_apply(lambda x: [ps.stem(i) for i in x])"
   ]
  },
  {
   "cell_type": "code",
   "execution_count": 183,
   "metadata": {},
   "outputs": [],
   "source": [
    "comments = all_data[\"cleaned comments\"] "
   ]
  },
  {
   "cell_type": "code",
   "execution_count": 184,
   "metadata": {},
   "outputs": [
    {
     "data": {
      "text/plain": [
       "0       [4, hr, make, mash, potato, delet, channel, go...\n",
       "1       [pretti, intens, music, toast, learnt, today, ...\n",
       "2       [andrew, seem, like, crave, pregnant, woman, s...\n",
       "3       [ngl, mini, voic, crack, voic, make, want, han...\n",
       "4       [rather, gentl, dough, tradit, way, make, doug...\n",
       "                              ...                        \n",
       "1319    [alright, time, go, make, breakfast, midnight,...\n",
       "1320    [caption, say, pecan, not_pecanndeaf, peopl, o...\n",
       "1321    [said, unknown, ``, when, your, earli, titl, s...\n",
       "1322    [els, watch, fun, non, *watch, video, junk, fo...\n",
       "1323    [351, faintli, hear, oh, ye, say, one, thing, ...\n",
       "Name: cleaned comments, Length: 1324, dtype: object"
      ]
     },
     "execution_count": 184,
     "metadata": {},
     "output_type": "execute_result"
    }
   ],
   "source": [
    "comments"
   ]
  },
  {
   "cell_type": "markdown",
   "metadata": {},
   "source": [
    "# LDA Gensim Model"
   ]
  },
  {
   "cell_type": "code",
   "execution_count": 185,
   "metadata": {},
   "outputs": [],
   "source": [
    "dictionary = corpora.Dictionary(comments)\n",
    "dictionary.filter_extremes(no_below=15, no_above=0.5, keep_n=100000)\n",
    "bow = [dictionary.doc2bow(comment) for comment in comments]"
   ]
  },
  {
   "cell_type": "code",
   "execution_count": 192,
   "metadata": {},
   "outputs": [],
   "source": [
    "random.seed(100) \n",
    "lda = gensim.models.LdaMulticore(bow, \n",
    "                                 num_topics=4, \n",
    "                                 id2word=dictionary, \n",
    "                                 eval_every = 1)"
   ]
  },
  {
   "cell_type": "code",
   "execution_count": 193,
   "metadata": {},
   "outputs": [
    {
     "name": "stdout",
     "output_type": "stream",
     "text": [
      "Topic: 0 \n",
      "Words: 0.006*\"rie\" + 0.006*\"cooki\" + 0.006*\"chocol\" + 0.005*\"cream\" + 0.005*\"chicken\" + 0.004*\"n\" + 0.004*\"cake\" + 0.004*\"chees\" + 0.004*\"ice\" + 0.004*\"bake\"\n",
      "Topic: 1 \n",
      "Words: 0.007*\"alix\" + 0.007*\"rie\" + 0.006*\"chicken\" + 0.005*\"chees\" + 0.005*\"cooki\" + 0.004*\"alvin\" + 0.004*\"vegan\" + 0.004*\"chocol\" + 0.004*\"fri\" + 0.004*\"dish\"\n",
      "Topic: 2 \n",
      "Words: 0.005*\"chicken\" + 0.004*\"sauc\" + 0.004*\"year\" + 0.004*\"cream\" + 0.004*\"chees\" + 0.004*\"bread\" + 0.004*\"egg\" + 0.004*\"n\" + 0.004*\"dish\" + 0.003*\"friend\"\n",
      "Topic: 3 \n",
      "Words: 0.014*\"rie\" + 0.009*\"chees\" + 0.006*\"cake\" + 0.006*\"chicken\" + 0.004*\"chef\" + 0.004*\"alvin\" + 0.003*\"said\" + 0.003*\"n\" + 0.003*\"year\" + 0.003*\"favorit\"\n"
     ]
    }
   ],
   "source": [
    "for index, topic in lda.print_topics(-1):\n",
    "    print('Topic: {} \\nWords: {}'.format(index, topic))"
   ]
  },
  {
   "cell_type": "markdown",
   "metadata": {},
   "source": [
    "# Feature extraction"
   ]
  },
  {
   "cell_type": "code",
   "execution_count": 194,
   "metadata": {},
   "outputs": [
    {
     "data": {
      "text/plain": [
       "[(0,\n",
       "  '0.006*\"rie\" + 0.006*\"cooki\" + 0.006*\"chocol\" + 0.005*\"cream\" + 0.005*\"chicken\" + 0.004*\"n\" + 0.004*\"cake\" + 0.004*\"chees\" + 0.004*\"ice\" + 0.004*\"bake\"'),\n",
       " (1,\n",
       "  '0.007*\"alix\" + 0.007*\"rie\" + 0.006*\"chicken\" + 0.005*\"chees\" + 0.005*\"cooki\" + 0.004*\"alvin\" + 0.004*\"vegan\" + 0.004*\"chocol\" + 0.004*\"fri\" + 0.004*\"dish\"'),\n",
       " (2,\n",
       "  '0.005*\"chicken\" + 0.004*\"sauc\" + 0.004*\"year\" + 0.004*\"cream\" + 0.004*\"chees\" + 0.004*\"bread\" + 0.004*\"egg\" + 0.004*\"n\" + 0.004*\"dish\" + 0.003*\"friend\"'),\n",
       " (3,\n",
       "  '0.014*\"rie\" + 0.009*\"chees\" + 0.006*\"cake\" + 0.006*\"chicken\" + 0.004*\"chef\" + 0.004*\"alvin\" + 0.003*\"said\" + 0.003*\"n\" + 0.003*\"year\" + 0.003*\"favorit\"')]"
      ]
     },
     "execution_count": 194,
     "metadata": {},
     "output_type": "execute_result"
    }
   ],
   "source": [
    "lda.print_topics(4,num_words=10)\n"
   ]
  },
  {
   "cell_type": "code",
   "execution_count": 195,
   "metadata": {},
   "outputs": [],
   "source": [
    "train_vecs = []\n",
    "for i in range(len(all_data)):\n",
    "    top_topics = lda.get_document_topics(bow[i], minimum_probability=0.0)\n",
    "    topic_vec = [top_topics[i][1] for i in range(4)]\n",
    "    train_vecs.append(topic_vec)"
   ]
  },
  {
   "cell_type": "code",
   "execution_count": 196,
   "metadata": {},
   "outputs": [
    {
     "data": {
      "text/html": [
       "<div>\n",
       "<style scoped>\n",
       "    .dataframe tbody tr th:only-of-type {\n",
       "        vertical-align: middle;\n",
       "    }\n",
       "\n",
       "    .dataframe tbody tr th {\n",
       "        vertical-align: top;\n",
       "    }\n",
       "\n",
       "    .dataframe thead th {\n",
       "        text-align: right;\n",
       "    }\n",
       "</style>\n",
       "<table border=\"1\" class=\"dataframe\">\n",
       "  <thead>\n",
       "    <tr style=\"text-align: right;\">\n",
       "      <th></th>\n",
       "      <th>0</th>\n",
       "      <th>1</th>\n",
       "      <th>2</th>\n",
       "      <th>3</th>\n",
       "    </tr>\n",
       "  </thead>\n",
       "  <tbody>\n",
       "    <tr>\n",
       "      <td>0</td>\n",
       "      <td>0.204470</td>\n",
       "      <td>0.621510</td>\n",
       "      <td>0.173062</td>\n",
       "      <td>0.000957</td>\n",
       "    </tr>\n",
       "    <tr>\n",
       "      <td>1</td>\n",
       "      <td>0.000633</td>\n",
       "      <td>0.001032</td>\n",
       "      <td>0.997703</td>\n",
       "      <td>0.000632</td>\n",
       "    </tr>\n",
       "    <tr>\n",
       "      <td>2</td>\n",
       "      <td>0.013210</td>\n",
       "      <td>0.723245</td>\n",
       "      <td>0.000443</td>\n",
       "      <td>0.263102</td>\n",
       "    </tr>\n",
       "    <tr>\n",
       "      <td>3</td>\n",
       "      <td>0.000880</td>\n",
       "      <td>0.000761</td>\n",
       "      <td>0.991751</td>\n",
       "      <td>0.006609</td>\n",
       "    </tr>\n",
       "    <tr>\n",
       "      <td>4</td>\n",
       "      <td>0.026030</td>\n",
       "      <td>0.693203</td>\n",
       "      <td>0.276989</td>\n",
       "      <td>0.003779</td>\n",
       "    </tr>\n",
       "  </tbody>\n",
       "</table>\n",
       "</div>"
      ],
      "text/plain": [
       "          0         1         2         3\n",
       "0  0.204470  0.621510  0.173062  0.000957\n",
       "1  0.000633  0.001032  0.997703  0.000632\n",
       "2  0.013210  0.723245  0.000443  0.263102\n",
       "3  0.000880  0.000761  0.991751  0.006609\n",
       "4  0.026030  0.693203  0.276989  0.003779"
      ]
     },
     "execution_count": 196,
     "metadata": {},
     "output_type": "execute_result"
    }
   ],
   "source": [
    "topic_dis = pd.DataFrame(train_vecs)\n",
    "topic_dis.head()"
   ]
  },
  {
   "cell_type": "code",
   "execution_count": 197,
   "metadata": {},
   "outputs": [
    {
     "data": {
      "text/plain": [
       "1324"
      ]
     },
     "execution_count": 197,
     "metadata": {},
     "output_type": "execute_result"
    }
   ],
   "source": [
    "all_data = pd.concat([all_data, topic_dis], axis = 1)\n",
    "len(all_data)"
   ]
  },
  {
   "cell_type": "code",
   "execution_count": 198,
   "metadata": {},
   "outputs": [],
   "source": [
    "all_data = all_data.drop(columns = ['Comments', 'cleaned comments'])"
   ]
  },
  {
   "cell_type": "code",
   "execution_count": 199,
   "metadata": {},
   "outputs": [
    {
     "data": {
      "text/plain": [
       "1324"
      ]
     },
     "execution_count": 199,
     "metadata": {},
     "output_type": "execute_result"
    }
   ],
   "source": [
    "len(all_data)"
   ]
  },
  {
   "cell_type": "code",
   "execution_count": 200,
   "metadata": {},
   "outputs": [
    {
     "data": {
      "text/html": [
       "<div>\n",
       "<style scoped>\n",
       "    .dataframe tbody tr th:only-of-type {\n",
       "        vertical-align: middle;\n",
       "    }\n",
       "\n",
       "    .dataframe tbody tr th {\n",
       "        vertical-align: top;\n",
       "    }\n",
       "\n",
       "    .dataframe thead th {\n",
       "        text-align: right;\n",
       "    }\n",
       "</style>\n",
       "<table border=\"1\" class=\"dataframe\">\n",
       "  <thead>\n",
       "    <tr style=\"text-align: right;\">\n",
       "      <th></th>\n",
       "      <th>ids</th>\n",
       "      <th>views</th>\n",
       "      <th>date</th>\n",
       "      <th>length</th>\n",
       "      <th>number</th>\n",
       "      <th>to</th>\n",
       "      <th>recip</th>\n",
       "      <th>make</th>\n",
       "      <th>a</th>\n",
       "      <th>for</th>\n",
       "      <th>...</th>\n",
       "      <th>descrip_follow</th>\n",
       "      <th>descrip_learn</th>\n",
       "      <th>descrip_dessert</th>\n",
       "      <th>descrip_parti</th>\n",
       "      <th>descrip_next</th>\n",
       "      <th>ratio</th>\n",
       "      <th>0</th>\n",
       "      <th>1</th>\n",
       "      <th>2</th>\n",
       "      <th>3</th>\n",
       "    </tr>\n",
       "  </thead>\n",
       "  <tbody>\n",
       "    <tr>\n",
       "      <td>0</td>\n",
       "      <td>8K7XiEOx3Fw</td>\n",
       "      <td>104887.0</td>\n",
       "      <td>09/03/20</td>\n",
       "      <td>750.0</td>\n",
       "      <td>0</td>\n",
       "      <td>0</td>\n",
       "      <td>0</td>\n",
       "      <td>0</td>\n",
       "      <td>0</td>\n",
       "      <td>0</td>\n",
       "      <td>...</td>\n",
       "      <td>1</td>\n",
       "      <td>0</td>\n",
       "      <td>0</td>\n",
       "      <td>0</td>\n",
       "      <td>0</td>\n",
       "      <td>16.638436</td>\n",
       "      <td>0.204470</td>\n",
       "      <td>0.621510</td>\n",
       "      <td>0.173062</td>\n",
       "      <td>0.000957</td>\n",
       "    </tr>\n",
       "    <tr>\n",
       "      <td>1</td>\n",
       "      <td>ysVnhqwlDbo</td>\n",
       "      <td>128680.0</td>\n",
       "      <td>07/03/20</td>\n",
       "      <td>342.0</td>\n",
       "      <td>1</td>\n",
       "      <td>1</td>\n",
       "      <td>0</td>\n",
       "      <td>0</td>\n",
       "      <td>0</td>\n",
       "      <td>0</td>\n",
       "      <td>...</td>\n",
       "      <td>0</td>\n",
       "      <td>0</td>\n",
       "      <td>0</td>\n",
       "      <td>0</td>\n",
       "      <td>0</td>\n",
       "      <td>44.681818</td>\n",
       "      <td>0.000633</td>\n",
       "      <td>0.001032</td>\n",
       "      <td>0.997703</td>\n",
       "      <td>0.000632</td>\n",
       "    </tr>\n",
       "    <tr>\n",
       "      <td>2</td>\n",
       "      <td>OoH1oGAJ7jI</td>\n",
       "      <td>832586.0</td>\n",
       "      <td>07/03/20</td>\n",
       "      <td>774.0</td>\n",
       "      <td>0</td>\n",
       "      <td>0</td>\n",
       "      <td>0</td>\n",
       "      <td>0</td>\n",
       "      <td>0</td>\n",
       "      <td>0</td>\n",
       "      <td>...</td>\n",
       "      <td>0</td>\n",
       "      <td>0</td>\n",
       "      <td>0</td>\n",
       "      <td>0</td>\n",
       "      <td>0</td>\n",
       "      <td>69.208211</td>\n",
       "      <td>0.013210</td>\n",
       "      <td>0.723245</td>\n",
       "      <td>0.000443</td>\n",
       "      <td>0.263102</td>\n",
       "    </tr>\n",
       "    <tr>\n",
       "      <td>3</td>\n",
       "      <td>7xycoVXyFGE</td>\n",
       "      <td>105588.0</td>\n",
       "      <td>05/03/20</td>\n",
       "      <td>214.0</td>\n",
       "      <td>0</td>\n",
       "      <td>0</td>\n",
       "      <td>0</td>\n",
       "      <td>0</td>\n",
       "      <td>0</td>\n",
       "      <td>0</td>\n",
       "      <td>...</td>\n",
       "      <td>1</td>\n",
       "      <td>0</td>\n",
       "      <td>0</td>\n",
       "      <td>0</td>\n",
       "      <td>0</td>\n",
       "      <td>60.561644</td>\n",
       "      <td>0.000880</td>\n",
       "      <td>0.000761</td>\n",
       "      <td>0.991751</td>\n",
       "      <td>0.006609</td>\n",
       "    </tr>\n",
       "    <tr>\n",
       "      <td>4</td>\n",
       "      <td>oUeanf1tg7U</td>\n",
       "      <td>324847.0</td>\n",
       "      <td>05/03/20</td>\n",
       "      <td>383.0</td>\n",
       "      <td>1</td>\n",
       "      <td>1</td>\n",
       "      <td>0</td>\n",
       "      <td>0</td>\n",
       "      <td>0</td>\n",
       "      <td>0</td>\n",
       "      <td>...</td>\n",
       "      <td>0</td>\n",
       "      <td>0</td>\n",
       "      <td>0</td>\n",
       "      <td>0</td>\n",
       "      <td>0</td>\n",
       "      <td>49.188571</td>\n",
       "      <td>0.026030</td>\n",
       "      <td>0.693203</td>\n",
       "      <td>0.276989</td>\n",
       "      <td>0.003779</td>\n",
       "    </tr>\n",
       "  </tbody>\n",
       "</table>\n",
       "<p>5 rows × 173 columns</p>\n",
       "</div>"
      ],
      "text/plain": [
       "           ids     views      date  length  number  to  recip  make  a  for  \\\n",
       "0  8K7XiEOx3Fw  104887.0  09/03/20   750.0       0   0      0     0  0    0   \n",
       "1  ysVnhqwlDbo  128680.0  07/03/20   342.0       1   1      0     0  0    0   \n",
       "2  OoH1oGAJ7jI  832586.0  07/03/20   774.0       0   0      0     0  0    0   \n",
       "3  7xycoVXyFGE  105588.0  05/03/20   214.0       0   0      0     0  0    0   \n",
       "4  oUeanf1tg7U  324847.0  05/03/20   383.0       1   1      0     0  0    0   \n",
       "\n",
       "   ...  descrip_follow  descrip_learn  descrip_dessert  descrip_parti  \\\n",
       "0  ...               1              0                0              0   \n",
       "1  ...               0              0                0              0   \n",
       "2  ...               0              0                0              0   \n",
       "3  ...               1              0                0              0   \n",
       "4  ...               0              0                0              0   \n",
       "\n",
       "   descrip_next      ratio         0         1         2         3  \n",
       "0             0  16.638436  0.204470  0.621510  0.173062  0.000957  \n",
       "1             0  44.681818  0.000633  0.001032  0.997703  0.000632  \n",
       "2             0  69.208211  0.013210  0.723245  0.000443  0.263102  \n",
       "3             0  60.561644  0.000880  0.000761  0.991751  0.006609  \n",
       "4             0  49.188571  0.026030  0.693203  0.276989  0.003779  \n",
       "\n",
       "[5 rows x 173 columns]"
      ]
     },
     "execution_count": 200,
     "metadata": {},
     "output_type": "execute_result"
    }
   ],
   "source": [
    "all_data.head()"
   ]
  },
  {
   "cell_type": "markdown",
   "metadata": {},
   "source": [
    "### 5. Lasso regression"
   ]
  },
  {
   "cell_type": "code",
   "execution_count": 201,
   "metadata": {},
   "outputs": [],
   "source": [
    "# preparing data for lasso\n",
    "all_data = all_data.drop(columns = ['date', 'ids'])"
   ]
  },
  {
   "cell_type": "code",
   "execution_count": 221,
   "metadata": {},
   "outputs": [
    {
     "data": {
      "text/html": [
       "<div>\n",
       "<style scoped>\n",
       "    .dataframe tbody tr th:only-of-type {\n",
       "        vertical-align: middle;\n",
       "    }\n",
       "\n",
       "    .dataframe tbody tr th {\n",
       "        vertical-align: top;\n",
       "    }\n",
       "\n",
       "    .dataframe thead th {\n",
       "        text-align: right;\n",
       "    }\n",
       "</style>\n",
       "<table border=\"1\" class=\"dataframe\">\n",
       "  <thead>\n",
       "    <tr style=\"text-align: right;\">\n",
       "      <th></th>\n",
       "      <th>views</th>\n",
       "      <th>length</th>\n",
       "      <th>number</th>\n",
       "      <th>to</th>\n",
       "      <th>recip</th>\n",
       "      <th>make</th>\n",
       "      <th>a</th>\n",
       "      <th>for</th>\n",
       "      <th>how</th>\n",
       "      <th>the</th>\n",
       "      <th>...</th>\n",
       "      <th>descrip_follow</th>\n",
       "      <th>descrip_learn</th>\n",
       "      <th>descrip_dessert</th>\n",
       "      <th>descrip_parti</th>\n",
       "      <th>descrip_next</th>\n",
       "      <th>ratio</th>\n",
       "      <th>0</th>\n",
       "      <th>1</th>\n",
       "      <th>2</th>\n",
       "      <th>3</th>\n",
       "    </tr>\n",
       "  </thead>\n",
       "  <tbody>\n",
       "    <tr>\n",
       "      <td>0</td>\n",
       "      <td>104887.0</td>\n",
       "      <td>750.0</td>\n",
       "      <td>0</td>\n",
       "      <td>0</td>\n",
       "      <td>0</td>\n",
       "      <td>0</td>\n",
       "      <td>0</td>\n",
       "      <td>0</td>\n",
       "      <td>0</td>\n",
       "      <td>0</td>\n",
       "      <td>...</td>\n",
       "      <td>1</td>\n",
       "      <td>0</td>\n",
       "      <td>0</td>\n",
       "      <td>0</td>\n",
       "      <td>0</td>\n",
       "      <td>16.638436</td>\n",
       "      <td>0.204470</td>\n",
       "      <td>0.621510</td>\n",
       "      <td>0.173062</td>\n",
       "      <td>0.000957</td>\n",
       "    </tr>\n",
       "    <tr>\n",
       "      <td>1</td>\n",
       "      <td>128680.0</td>\n",
       "      <td>342.0</td>\n",
       "      <td>1</td>\n",
       "      <td>1</td>\n",
       "      <td>0</td>\n",
       "      <td>0</td>\n",
       "      <td>0</td>\n",
       "      <td>0</td>\n",
       "      <td>0</td>\n",
       "      <td>0</td>\n",
       "      <td>...</td>\n",
       "      <td>0</td>\n",
       "      <td>0</td>\n",
       "      <td>0</td>\n",
       "      <td>0</td>\n",
       "      <td>0</td>\n",
       "      <td>44.681818</td>\n",
       "      <td>0.000633</td>\n",
       "      <td>0.001032</td>\n",
       "      <td>0.997703</td>\n",
       "      <td>0.000632</td>\n",
       "    </tr>\n",
       "    <tr>\n",
       "      <td>2</td>\n",
       "      <td>832586.0</td>\n",
       "      <td>774.0</td>\n",
       "      <td>0</td>\n",
       "      <td>0</td>\n",
       "      <td>0</td>\n",
       "      <td>0</td>\n",
       "      <td>0</td>\n",
       "      <td>0</td>\n",
       "      <td>0</td>\n",
       "      <td>0</td>\n",
       "      <td>...</td>\n",
       "      <td>0</td>\n",
       "      <td>0</td>\n",
       "      <td>0</td>\n",
       "      <td>0</td>\n",
       "      <td>0</td>\n",
       "      <td>69.208211</td>\n",
       "      <td>0.013210</td>\n",
       "      <td>0.723245</td>\n",
       "      <td>0.000443</td>\n",
       "      <td>0.263102</td>\n",
       "    </tr>\n",
       "    <tr>\n",
       "      <td>3</td>\n",
       "      <td>105588.0</td>\n",
       "      <td>214.0</td>\n",
       "      <td>0</td>\n",
       "      <td>0</td>\n",
       "      <td>0</td>\n",
       "      <td>0</td>\n",
       "      <td>0</td>\n",
       "      <td>0</td>\n",
       "      <td>0</td>\n",
       "      <td>0</td>\n",
       "      <td>...</td>\n",
       "      <td>1</td>\n",
       "      <td>0</td>\n",
       "      <td>0</td>\n",
       "      <td>0</td>\n",
       "      <td>0</td>\n",
       "      <td>60.561644</td>\n",
       "      <td>0.000880</td>\n",
       "      <td>0.000761</td>\n",
       "      <td>0.991751</td>\n",
       "      <td>0.006609</td>\n",
       "    </tr>\n",
       "    <tr>\n",
       "      <td>4</td>\n",
       "      <td>324847.0</td>\n",
       "      <td>383.0</td>\n",
       "      <td>1</td>\n",
       "      <td>1</td>\n",
       "      <td>0</td>\n",
       "      <td>0</td>\n",
       "      <td>0</td>\n",
       "      <td>0</td>\n",
       "      <td>0</td>\n",
       "      <td>0</td>\n",
       "      <td>...</td>\n",
       "      <td>0</td>\n",
       "      <td>0</td>\n",
       "      <td>0</td>\n",
       "      <td>0</td>\n",
       "      <td>0</td>\n",
       "      <td>49.188571</td>\n",
       "      <td>0.026030</td>\n",
       "      <td>0.693203</td>\n",
       "      <td>0.276989</td>\n",
       "      <td>0.003779</td>\n",
       "    </tr>\n",
       "  </tbody>\n",
       "</table>\n",
       "<p>5 rows × 171 columns</p>\n",
       "</div>"
      ],
      "text/plain": [
       "      views  length  number  to  recip  make  a  for  how  the  ...  \\\n",
       "0  104887.0   750.0       0   0      0     0  0    0    0    0  ...   \n",
       "1  128680.0   342.0       1   1      0     0  0    0    0    0  ...   \n",
       "2  832586.0   774.0       0   0      0     0  0    0    0    0  ...   \n",
       "3  105588.0   214.0       0   0      0     0  0    0    0    0  ...   \n",
       "4  324847.0   383.0       1   1      0     0  0    0    0    0  ...   \n",
       "\n",
       "   descrip_follow  descrip_learn  descrip_dessert  descrip_parti  \\\n",
       "0               1              0                0              0   \n",
       "1               0              0                0              0   \n",
       "2               0              0                0              0   \n",
       "3               1              0                0              0   \n",
       "4               0              0                0              0   \n",
       "\n",
       "   descrip_next      ratio         0         1         2         3  \n",
       "0             0  16.638436  0.204470  0.621510  0.173062  0.000957  \n",
       "1             0  44.681818  0.000633  0.001032  0.997703  0.000632  \n",
       "2             0  69.208211  0.013210  0.723245  0.000443  0.263102  \n",
       "3             0  60.561644  0.000880  0.000761  0.991751  0.006609  \n",
       "4             0  49.188571  0.026030  0.693203  0.276989  0.003779  \n",
       "\n",
       "[5 rows x 171 columns]"
      ]
     },
     "execution_count": 221,
     "metadata": {},
     "output_type": "execute_result"
    }
   ],
   "source": [
    "# dropping any NA values\n",
    "final_data = all_data.dropna()\n",
    "final_data.head()"
   ]
  },
  {
   "cell_type": "code",
   "execution_count": 225,
   "metadata": {},
   "outputs": [
    {
     "name": "stderr",
     "output_type": "stream",
     "text": [
      "/Users/nandinibasu/opt/anaconda3/lib/python3.7/site-packages/ipykernel_launcher.py:1: SettingWithCopyWarning: \n",
      "A value is trying to be set on a copy of a slice from a DataFrame.\n",
      "Try using .loc[row_indexer,col_indexer] = value instead\n",
      "\n",
      "See the caveats in the documentation: http://pandas.pydata.org/pandas-docs/stable/user_guide/indexing.html#returning-a-view-versus-a-copy\n",
      "  \"\"\"Entry point for launching an IPython kernel.\n",
      "/Users/nandinibasu/opt/anaconda3/lib/python3.7/site-packages/ipykernel_launcher.py:2: SettingWithCopyWarning: \n",
      "A value is trying to be set on a copy of a slice from a DataFrame.\n",
      "Try using .loc[row_indexer,col_indexer] = value instead\n",
      "\n",
      "See the caveats in the documentation: http://pandas.pydata.org/pandas-docs/stable/user_guide/indexing.html#returning-a-view-versus-a-copy\n",
      "  \n"
     ]
    }
   ],
   "source": [
    "final_data['views'] = np.log(final_data['views'])\n",
    "final_data['length'] = np.log(final_data['length'])"
   ]
  },
  {
   "cell_type": "code",
   "execution_count": 226,
   "metadata": {},
   "outputs": [
    {
     "data": {
      "text/html": [
       "<div>\n",
       "<style scoped>\n",
       "    .dataframe tbody tr th:only-of-type {\n",
       "        vertical-align: middle;\n",
       "    }\n",
       "\n",
       "    .dataframe tbody tr th {\n",
       "        vertical-align: top;\n",
       "    }\n",
       "\n",
       "    .dataframe thead th {\n",
       "        text-align: right;\n",
       "    }\n",
       "</style>\n",
       "<table border=\"1\" class=\"dataframe\">\n",
       "  <thead>\n",
       "    <tr style=\"text-align: right;\">\n",
       "      <th></th>\n",
       "      <th>views</th>\n",
       "      <th>length</th>\n",
       "      <th>number</th>\n",
       "      <th>to</th>\n",
       "      <th>recip</th>\n",
       "      <th>make</th>\n",
       "      <th>a</th>\n",
       "      <th>for</th>\n",
       "      <th>how</th>\n",
       "      <th>the</th>\n",
       "      <th>...</th>\n",
       "      <th>descrip_follow</th>\n",
       "      <th>descrip_learn</th>\n",
       "      <th>descrip_dessert</th>\n",
       "      <th>descrip_parti</th>\n",
       "      <th>descrip_next</th>\n",
       "      <th>ratio</th>\n",
       "      <th>0</th>\n",
       "      <th>1</th>\n",
       "      <th>2</th>\n",
       "      <th>3</th>\n",
       "    </tr>\n",
       "  </thead>\n",
       "  <tbody>\n",
       "    <tr>\n",
       "      <td>0</td>\n",
       "      <td>2.447606</td>\n",
       "      <td>6.620073</td>\n",
       "      <td>0</td>\n",
       "      <td>0</td>\n",
       "      <td>0</td>\n",
       "      <td>0</td>\n",
       "      <td>0</td>\n",
       "      <td>0</td>\n",
       "      <td>0</td>\n",
       "      <td>0</td>\n",
       "      <td>...</td>\n",
       "      <td>1</td>\n",
       "      <td>0</td>\n",
       "      <td>0</td>\n",
       "      <td>0</td>\n",
       "      <td>0</td>\n",
       "      <td>16.638436</td>\n",
       "      <td>0.204470</td>\n",
       "      <td>0.621510</td>\n",
       "      <td>0.173062</td>\n",
       "      <td>0.000957</td>\n",
       "    </tr>\n",
       "    <tr>\n",
       "      <td>1</td>\n",
       "      <td>2.465136</td>\n",
       "      <td>5.834811</td>\n",
       "      <td>1</td>\n",
       "      <td>1</td>\n",
       "      <td>0</td>\n",
       "      <td>0</td>\n",
       "      <td>0</td>\n",
       "      <td>0</td>\n",
       "      <td>0</td>\n",
       "      <td>0</td>\n",
       "      <td>...</td>\n",
       "      <td>0</td>\n",
       "      <td>0</td>\n",
       "      <td>0</td>\n",
       "      <td>0</td>\n",
       "      <td>0</td>\n",
       "      <td>44.681818</td>\n",
       "      <td>0.000633</td>\n",
       "      <td>0.001032</td>\n",
       "      <td>0.997703</td>\n",
       "      <td>0.000632</td>\n",
       "    </tr>\n",
       "    <tr>\n",
       "      <td>2</td>\n",
       "      <td>2.612441</td>\n",
       "      <td>6.651572</td>\n",
       "      <td>0</td>\n",
       "      <td>0</td>\n",
       "      <td>0</td>\n",
       "      <td>0</td>\n",
       "      <td>0</td>\n",
       "      <td>0</td>\n",
       "      <td>0</td>\n",
       "      <td>0</td>\n",
       "      <td>...</td>\n",
       "      <td>0</td>\n",
       "      <td>0</td>\n",
       "      <td>0</td>\n",
       "      <td>0</td>\n",
       "      <td>0</td>\n",
       "      <td>69.208211</td>\n",
       "      <td>0.013210</td>\n",
       "      <td>0.723245</td>\n",
       "      <td>0.000443</td>\n",
       "      <td>0.263102</td>\n",
       "    </tr>\n",
       "    <tr>\n",
       "      <td>3</td>\n",
       "      <td>2.448182</td>\n",
       "      <td>5.365976</td>\n",
       "      <td>0</td>\n",
       "      <td>0</td>\n",
       "      <td>0</td>\n",
       "      <td>0</td>\n",
       "      <td>0</td>\n",
       "      <td>0</td>\n",
       "      <td>0</td>\n",
       "      <td>0</td>\n",
       "      <td>...</td>\n",
       "      <td>1</td>\n",
       "      <td>0</td>\n",
       "      <td>0</td>\n",
       "      <td>0</td>\n",
       "      <td>0</td>\n",
       "      <td>60.561644</td>\n",
       "      <td>0.000880</td>\n",
       "      <td>0.000761</td>\n",
       "      <td>0.991751</td>\n",
       "      <td>0.006609</td>\n",
       "    </tr>\n",
       "    <tr>\n",
       "      <td>4</td>\n",
       "      <td>2.540902</td>\n",
       "      <td>5.948035</td>\n",
       "      <td>1</td>\n",
       "      <td>1</td>\n",
       "      <td>0</td>\n",
       "      <td>0</td>\n",
       "      <td>0</td>\n",
       "      <td>0</td>\n",
       "      <td>0</td>\n",
       "      <td>0</td>\n",
       "      <td>...</td>\n",
       "      <td>0</td>\n",
       "      <td>0</td>\n",
       "      <td>0</td>\n",
       "      <td>0</td>\n",
       "      <td>0</td>\n",
       "      <td>49.188571</td>\n",
       "      <td>0.026030</td>\n",
       "      <td>0.693203</td>\n",
       "      <td>0.276989</td>\n",
       "      <td>0.003779</td>\n",
       "    </tr>\n",
       "  </tbody>\n",
       "</table>\n",
       "<p>5 rows × 171 columns</p>\n",
       "</div>"
      ],
      "text/plain": [
       "      views    length  number  to  recip  make  a  for  how  the  ...  \\\n",
       "0  2.447606  6.620073       0   0      0     0  0    0    0    0  ...   \n",
       "1  2.465136  5.834811       1   1      0     0  0    0    0    0  ...   \n",
       "2  2.612441  6.651572       0   0      0     0  0    0    0    0  ...   \n",
       "3  2.448182  5.365976       0   0      0     0  0    0    0    0  ...   \n",
       "4  2.540902  5.948035       1   1      0     0  0    0    0    0  ...   \n",
       "\n",
       "   descrip_follow  descrip_learn  descrip_dessert  descrip_parti  \\\n",
       "0               1              0                0              0   \n",
       "1               0              0                0              0   \n",
       "2               0              0                0              0   \n",
       "3               1              0                0              0   \n",
       "4               0              0                0              0   \n",
       "\n",
       "   descrip_next      ratio         0         1         2         3  \n",
       "0             0  16.638436  0.204470  0.621510  0.173062  0.000957  \n",
       "1             0  44.681818  0.000633  0.001032  0.997703  0.000632  \n",
       "2             0  69.208211  0.013210  0.723245  0.000443  0.263102  \n",
       "3             0  60.561644  0.000880  0.000761  0.991751  0.006609  \n",
       "4             0  49.188571  0.026030  0.693203  0.276989  0.003779  \n",
       "\n",
       "[5 rows x 171 columns]"
      ]
     },
     "execution_count": 226,
     "metadata": {},
     "output_type": "execute_result"
    }
   ],
   "source": [
    "final_data.head()"
   ]
  },
  {
   "cell_type": "code",
   "execution_count": 227,
   "metadata": {},
   "outputs": [],
   "source": [
    "X = final_data.drop('views', 1)\n",
    "Y = final_data['views']"
   ]
  },
  {
   "cell_type": "code",
   "execution_count": 228,
   "metadata": {},
   "outputs": [],
   "source": [
    "X_test,X_train,y_test,y_train=train_test_split(X,Y, test_size=0.9, random_state=31)"
   ]
  },
  {
   "cell_type": "code",
   "execution_count": 242,
   "metadata": {
    "scrolled": true
   },
   "outputs": [
    {
     "data": {
      "text/plain": [
       "LassoCV(alphas=None, copy_X=True, cv=5, eps=0.001, fit_intercept=True,\n",
       "        max_iter=1000, n_alphas=100, n_jobs=None, normalize=False,\n",
       "        positive=False, precompute='auto', random_state=0, selection='cyclic',\n",
       "        tol=0.0001, verbose=False)"
      ]
     },
     "execution_count": 242,
     "metadata": {},
     "output_type": "execute_result"
    }
   ],
   "source": [
    "lasso = LassoCV(cv=5, random_state=0)\n",
    "lasso.fit(X_train, y_train)"
   ]
  },
  {
   "cell_type": "code",
   "execution_count": 243,
   "metadata": {},
   "outputs": [],
   "source": [
    "Y_pred = lasso.predict(X_test)"
   ]
  },
  {
   "cell_type": "code",
   "execution_count": 244,
   "metadata": {},
   "outputs": [
    {
     "name": "stdout",
     "output_type": "stream",
     "text": [
      "0.6113550828740983\n",
      "0.5882027977530069\n"
     ]
    }
   ],
   "source": [
    "train_score=lasso.score(X_train,y_train)\n",
    "test_score=lasso.score(X_test,y_test)\n",
    "print(train_score)\n",
    "print(test_score)"
   ]
  },
  {
   "cell_type": "code",
   "execution_count": 245,
   "metadata": {},
   "outputs": [
    {
     "name": "stdout",
     "output_type": "stream",
     "text": [
      "57\n"
     ]
    }
   ],
   "source": [
    "coeff_used = np.sum(lasso.coef_!=0)\n",
    "print(coeff_used)"
   ]
  },
  {
   "cell_type": "code",
   "execution_count": 246,
   "metadata": {},
   "outputs": [
    {
     "data": {
      "text/plain": [
       "array([ True, False,  True,  True,  True, False, False, False, False,\n",
       "        True, False,  True, False,  True, False,  True,  True,  True,\n",
       "        True,  True, False,  True,  True,  True, False,  True, False,\n",
       "       False,  True,  True, False, False, False, False,  True, False,\n",
       "       False, False, False, False, False, False, False,  True, False,\n",
       "       False,  True,  True, False,  True, False,  True,  True,  True,\n",
       "       False,  True, False, False,  True, False, False,  True,  True,\n",
       "       False,  True,  True, False,  True, False, False, False,  True,\n",
       "       False, False, False, False, False, False, False, False, False,\n",
       "       False, False, False, False, False, False,  True, False, False,\n",
       "       False,  True,  True, False,  True, False, False, False, False,\n",
       "       False, False,  True,  True, False, False,  True, False, False,\n",
       "       False, False, False, False, False, False, False, False, False,\n",
       "       False, False, False, False, False, False, False, False, False,\n",
       "       False,  True, False, False, False, False, False,  True, False,\n",
       "       False, False, False, False,  True,  True,  True, False, False,\n",
       "        True, False, False, False, False,  True,  True, False,  True,\n",
       "        True,  True, False, False, False, False, False, False, False,\n",
       "       False, False, False,  True,  True,  True,  True,  True])"
      ]
     },
     "execution_count": 246,
     "metadata": {},
     "output_type": "execute_result"
    }
   ],
   "source": [
    "lasso.coef_!=0"
   ]
  },
  {
   "cell_type": "code",
   "execution_count": 247,
   "metadata": {},
   "outputs": [
    {
     "data": {
      "text/plain": [
       "array([ 6.21948972e-02,  0.00000000e+00, -7.03196129e-03, -7.38927017e-04,\n",
       "        1.02131407e-02,  0.00000000e+00, -0.00000000e+00, -0.00000000e+00,\n",
       "        0.00000000e+00, -3.85772319e-03, -0.00000000e+00, -8.03950033e-03,\n",
       "        0.00000000e+00,  3.02015043e-02, -0.00000000e+00, -2.72715922e-02,\n",
       "       -4.52291326e-03, -5.70046081e-03,  6.17205284e-03,  1.38676026e-03,\n",
       "       -0.00000000e+00,  4.59626494e-03,  5.29089073e-02, -8.13652362e-03,\n",
       "       -0.00000000e+00,  5.01801777e-03,  0.00000000e+00,  0.00000000e+00,\n",
       "        3.80044674e-02,  3.44151570e-03, -0.00000000e+00, -0.00000000e+00,\n",
       "        0.00000000e+00, -0.00000000e+00,  2.16504442e-03,  0.00000000e+00,\n",
       "        0.00000000e+00,  0.00000000e+00,  0.00000000e+00,  0.00000000e+00,\n",
       "        0.00000000e+00, -0.00000000e+00,  0.00000000e+00, -4.02728389e-03,\n",
       "        0.00000000e+00,  0.00000000e+00, -3.65332893e-02,  4.23422616e-02,\n",
       "        0.00000000e+00, -1.61437147e-02, -0.00000000e+00,  3.05901585e-03,\n",
       "        3.84240699e-02,  1.45535295e-02, -0.00000000e+00,  4.09671130e-03,\n",
       "       -0.00000000e+00,  0.00000000e+00,  3.50965194e-03, -0.00000000e+00,\n",
       "        0.00000000e+00,  2.26834882e-02,  1.57684072e-03, -0.00000000e+00,\n",
       "        3.06083104e-03,  2.12799498e-03,  0.00000000e+00,  3.71401386e-03,\n",
       "       -0.00000000e+00, -0.00000000e+00,  0.00000000e+00,  7.11875698e-04,\n",
       "        0.00000000e+00,  0.00000000e+00, -0.00000000e+00,  0.00000000e+00,\n",
       "        0.00000000e+00, -0.00000000e+00,  0.00000000e+00,  0.00000000e+00,\n",
       "        0.00000000e+00,  0.00000000e+00,  0.00000000e+00,  0.00000000e+00,\n",
       "       -0.00000000e+00,  0.00000000e+00,  0.00000000e+00, -2.00569696e-03,\n",
       "        0.00000000e+00,  0.00000000e+00,  0.00000000e+00, -3.94923230e-02,\n",
       "       -8.39565425e-16, -0.00000000e+00, -8.60495438e-04, -0.00000000e+00,\n",
       "       -0.00000000e+00,  0.00000000e+00,  0.00000000e+00, -0.00000000e+00,\n",
       "       -0.00000000e+00, -1.73084476e-02, -1.06559362e-03, -0.00000000e+00,\n",
       "        0.00000000e+00, -4.49834069e-04, -0.00000000e+00, -0.00000000e+00,\n",
       "       -0.00000000e+00, -0.00000000e+00, -0.00000000e+00, -0.00000000e+00,\n",
       "       -0.00000000e+00, -0.00000000e+00, -0.00000000e+00,  0.00000000e+00,\n",
       "       -0.00000000e+00, -0.00000000e+00, -0.00000000e+00, -0.00000000e+00,\n",
       "       -0.00000000e+00, -0.00000000e+00, -0.00000000e+00, -0.00000000e+00,\n",
       "       -0.00000000e+00,  0.00000000e+00, -0.00000000e+00, -5.34323824e-02,\n",
       "        0.00000000e+00, -0.00000000e+00,  0.00000000e+00, -0.00000000e+00,\n",
       "        0.00000000e+00,  2.40220464e-03,  0.00000000e+00,  0.00000000e+00,\n",
       "        0.00000000e+00,  0.00000000e+00,  0.00000000e+00,  3.66419126e-03,\n",
       "       -2.97073908e-03, -9.73742429e-03,  0.00000000e+00,  0.00000000e+00,\n",
       "        1.86553811e-02,  0.00000000e+00,  0.00000000e+00, -0.00000000e+00,\n",
       "        0.00000000e+00, -3.04345056e-02, -5.83523415e-03,  0.00000000e+00,\n",
       "        4.12191572e-03,  1.59751870e-02,  1.85864540e-02, -0.00000000e+00,\n",
       "        0.00000000e+00,  0.00000000e+00,  0.00000000e+00,  0.00000000e+00,\n",
       "        0.00000000e+00, -0.00000000e+00,  0.00000000e+00,  0.00000000e+00,\n",
       "        0.00000000e+00,  5.54099658e-04,  2.43982783e-03, -1.22915773e-02,\n",
       "       -2.54542149e-03,  1.95457031e-03])"
      ]
     },
     "execution_count": 247,
     "metadata": {},
     "output_type": "execute_result"
    }
   ],
   "source": [
    "lasso.coef_"
   ]
  },
  {
   "cell_type": "code",
   "execution_count": 256,
   "metadata": {},
   "outputs": [
    {
     "data": {
      "text/plain": [
       "'views'"
      ]
     },
     "execution_count": 256,
     "metadata": {},
     "output_type": "execute_result"
    }
   ],
   "source": [
    "lasso_list = list(final_data.columns)\n",
    "lasso_list.pop(0)"
   ]
  },
  {
   "cell_type": "code",
   "execution_count": 257,
   "metadata": {},
   "outputs": [],
   "source": [
    "# create a dictionary with feature and coeficient\n",
    "coef_dict = dict(zip(lasso_list,list(list(lasso.coef_))))"
   ]
  },
  {
   "cell_type": "code",
   "execution_count": 258,
   "metadata": {},
   "outputs": [],
   "source": [
    "sorted_importance = sorted(coef_dict.items(), key=operator.itemgetter(1))"
   ]
  },
  {
   "cell_type": "code",
   "execution_count": 259,
   "metadata": {},
   "outputs": [
    {
     "data": {
      "text/plain": [
       "[('descrip_shop', -0.05343238240885633),\n",
       " ('lg', -0.039492323026538885),\n",
       " ('as', -0.03653328930893417),\n",
       " ('descrip_holiday', -0.030434505560318143),\n",
       " ('by', -0.02727159216092754),\n",
       " ('descrip_merch', -0.017308447555050878),\n",
       " ('pie', -0.016143714719320572),\n",
       " (1, -0.01229157732919619),\n",
       " ('descrip_get', -0.009737424293819439),\n",
       " ('!', -0.008136523616085568),\n",
       " ('and', -0.008039500325526439),\n",
       " ('to', -0.007031961289630765),\n",
       " ('descrip_perfect', -0.005835234152962451),\n",
       " ('with', -0.005700460812246873),\n",
       " (\"'s\", -0.0045229132643021044),\n",
       " ('way', -0.004027283886887344),\n",
       " ('your', -0.0038577231916164683),\n",
       " ('descrip_want', -0.0029707390794527075),\n",
       " (2, -0.0025454214930997186),\n",
       " ('salad', -0.0020056969595516234),\n",
       " ('descrip_recip', -0.001065593622734052),\n",
       " ('sweet', -0.0008604954384061963),\n",
       " ('recip', -0.0007389270173058755),\n",
       " ('descrip_network', -0.000449834068759545),\n",
       " ('usa', -8.395654252265675e-16),\n",
       " ('number', 0.0),\n",
       " ('a', 0.0),\n",
       " ('for', -0.0),\n",
       " ('how', -0.0),\n",
       " ('the', 0.0),\n",
       " (',', -0.0),\n",
       " (\"'\", 0.0),\n",
       " ('you', -0.0),\n",
       " ('can', -0.0),\n",
       " ('that', -0.0),\n",
       " ('in', 0.0),\n",
       " ('of', 0.0),\n",
       " ('//', -0.0),\n",
       " ('present', -0.0),\n",
       " ('chef', 0.0),\n",
       " ('delici', -0.0),\n",
       " ('&', 0.0),\n",
       " ('easi', 0.0),\n",
       " ('tri', 0.0),\n",
       " ('food', 0.0),\n",
       " ('chocol', 0.0),\n",
       " ('dinner', 0.0),\n",
       " ('holiday', -0.0),\n",
       " (\"''\", 0.0),\n",
       " ('``', 0.0),\n",
       " ('parti', 0.0),\n",
       " ('will', 0.0),\n",
       " ('’', -0.0),\n",
       " ('alvin', -0.0),\n",
       " ('dish', -0.0),\n",
       " ('it', 0.0),\n",
       " ('next', -0.0),\n",
       " ('chees', 0.0),\n",
       " ('bread', -0.0),\n",
       " ('.', 0.0),\n",
       " ('favorit', -0.0),\n",
       " ('at', -0.0),\n",
       " ('new', 0.0),\n",
       " ('night', 0.0),\n",
       " ('is', 0.0),\n",
       " ('potato', -0.0),\n",
       " ('year', 0.0),\n",
       " ('alix', 0.0),\n",
       " ('egg', -0.0),\n",
       " ('sandwich', 0.0),\n",
       " ('we', 0.0),\n",
       " ('lover', 0.0),\n",
       " ('(', 0.0),\n",
       " (')', 0.0),\n",
       " ('cheesecak', 0.0),\n",
       " ('homemad', -0.0),\n",
       " ('on', 0.0),\n",
       " ('my', 0.0),\n",
       " ('day', 0.0),\n",
       " ('these', 0.0),\n",
       " ('are', 0.0),\n",
       " ('s', -0.0),\n",
       " ('or', -0.0),\n",
       " ('rice', -0.0),\n",
       " ('rie', 0.0),\n",
       " ('butter', 0.0),\n",
       " ('descrip_http', -0.0),\n",
       " ('descrip_food', -0.0),\n",
       " ('descrip_line', -0.0),\n",
       " ('descrip_facebook', 0.0),\n",
       " ('descrip_instagram', -0.0),\n",
       " ('descrip_way', -0.0),\n",
       " ('descrip_offici', -0.0),\n",
       " ('descrip_everi', -0.0),\n",
       " ('descrip_help', -0.0),\n",
       " ('descrip_world', -0.0),\n",
       " ('descrip_thing', -0.0),\n",
       " ('descrip_interact', -0.0),\n",
       " ('descrip_lover', -0.0),\n",
       " ('descrip_channel', 0.0),\n",
       " ('descrip_youtub', -0.0),\n",
       " ('descrip_talent', -0.0),\n",
       " ('descrip_websit', -0.0),\n",
       " ('descrip_cookwar', -0.0),\n",
       " ('descrip_largest', -0.0),\n",
       " ('descrip_connect', -0.0),\n",
       " ('descrip_world-class', -0.0),\n",
       " ('descrip_kitchenwar', -0.0),\n",
       " ('descrip_food.connect', -0.0),\n",
       " ('descrip_new', 0.0),\n",
       " ('descrip_newslett', -0.0),\n",
       " ('descrip_audio', 0.0),\n",
       " ('descrip_musiclicens', -0.0),\n",
       " ('descrip_like', 0.0),\n",
       " ('descrip_networkhttp', -0.0),\n",
       " ('descrip_credit', 0.0),\n",
       " ('descrip_product', 0.0),\n",
       " ('descrip_warner', 0.0),\n",
       " ('descrip_chappel', 0.0),\n",
       " ('descrip_check', 0.0),\n",
       " ('descrip_subscrib', 0.0),\n",
       " ('descrip_delici', 0.0),\n",
       " ('descrip_provid', 0.0),\n",
       " ('descrip_tri', 0.0),\n",
       " ('descrip_dish', 0.0),\n",
       " ('descrip_favorit', -0.0),\n",
       " ('descrip_chicken', 0.0),\n",
       " ('descrip_easi', 0.0),\n",
       " ('descrip_one', -0.0),\n",
       " ('descrip_dinner', 0.0),\n",
       " ('descrip_chees', 0.0),\n",
       " ('descrip_cooki', 0.0),\n",
       " ('descrip_spice', 0.0),\n",
       " ('descrip_follow', 0.0),\n",
       " ('descrip_learn', -0.0),\n",
       " ('descrip_dessert', 0.0),\n",
       " ('descrip_parti', 0.0),\n",
       " ('descrip_next', 0.0),\n",
       " ('ratio', 0.0005540996581987783),\n",
       " ('bake', 0.0007118756979577522),\n",
       " (':', 0.0013867602554512122),\n",
       " ('eat', 0.0015768407238830734),\n",
       " (3, 0.001954570308465384),\n",
       " ('best', 0.002127994975702366),\n",
       " ('cake', 0.00216504441968115),\n",
       " ('descrip_music', 0.002402204641900482),\n",
       " (0, 0.002439827831908084),\n",
       " ('pizza', 0.003059015846497758),\n",
       " ('ice', 0.0030608310403150373),\n",
       " ('dessert', 0.003441515697057873),\n",
       " ('meal', 0.003509651935065687),\n",
       " ('descrip_make', 0.0036641912587650825),\n",
       " ('breakfast', 0.00371401385807468),\n",
       " ('cream', 0.004096711304493039),\n",
       " ('descrip_imageshttp', 0.004121915722772625),\n",
       " ('chicken', 0.004596264942595609),\n",
       " ('cooki', 0.005018017767540386),\n",
       " ('thi', 0.006172052839521869),\n",
       " ('make', 0.010213140740535304),\n",
       " ('fri', 0.01455352950236056),\n",
       " ('descrip_networksfx', 0.015975186951922873),\n",
       " ('descrip_season', 0.018586454036059075),\n",
       " ('descrip_audioblock', 0.018655381098606386),\n",
       " ('vs.', 0.022683488201725773),\n",
       " ('i', 0.030201504290272144),\n",
       " ('made', 0.038004467437908133),\n",
       " ('snack', 0.038424069928676474),\n",
       " ('giant', 0.04234226156683502),\n",
       " ('?', 0.05290890734355379),\n",
       " ('length', 0.062194897230646994)]"
      ]
     },
     "execution_count": 259,
     "metadata": {},
     "output_type": "execute_result"
    }
   ],
   "source": [
    "sorted_importance"
   ]
  },
  {
   "cell_type": "code",
   "execution_count": null,
   "metadata": {},
   "outputs": [],
   "source": []
  }
 ],
 "metadata": {
  "colab": {
   "collapsed_sections": [],
   "name": "Machine Learning.ipynb",
   "provenance": []
  },
  "kernelspec": {
   "display_name": "Python 3",
   "language": "python",
   "name": "python3"
  },
  "language_info": {
   "codemirror_mode": {
    "name": "ipython",
    "version": 3
   },
   "file_extension": ".py",
   "mimetype": "text/x-python",
   "name": "python",
   "nbconvert_exporter": "python",
   "pygments_lexer": "ipython3",
   "version": "3.7.4"
  }
 },
 "nbformat": 4,
 "nbformat_minor": 1
}
